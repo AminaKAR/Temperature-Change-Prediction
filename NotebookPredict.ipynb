{
 "cells": [
  {
   "cell_type": "code",
   "execution_count": 7,
   "metadata": {},
   "outputs": [
    {
     "name": "stdout",
     "output_type": "stream",
     "text": [
      "Collecting chart_studio\n",
      "  Downloading https://files.pythonhosted.org/packages/b9/3f/d2f3f506ba1aaf109f549f8b01d1483cd3e324c5ebe6b206acee66efdf46/chart_studio-1.0.0-py3-none-any.whl (76kB)\n",
      "Requirement already satisfied: retrying>=1.3.3 in c:\\programdata\\anaconda3\\lib\\site-packages (from chart_studio) (1.3.3)\n",
      "Requirement already satisfied: plotly in c:\\programdata\\anaconda3\\lib\\site-packages (from chart_studio) (4.1.1)\n",
      "Requirement already satisfied: requests in c:\\programdata\\anaconda3\\lib\\site-packages (from chart_studio) (2.21.0)\n",
      "Requirement already satisfied: six in c:\\programdata\\anaconda3\\lib\\site-packages (from chart_studio) (1.12.0)\n",
      "Requirement already satisfied: certifi>=2017.4.17 in c:\\programdata\\anaconda3\\lib\\site-packages (from requests->chart_studio) (2019.3.9)\n",
      "Requirement already satisfied: urllib3<1.25,>=1.21.1 in c:\\programdata\\anaconda3\\lib\\site-packages (from requests->chart_studio) (1.24.1)\n",
      "Requirement already satisfied: chardet<3.1.0,>=3.0.2 in c:\\programdata\\anaconda3\\lib\\site-packages (from requests->chart_studio) (3.0.4)\n",
      "Requirement already satisfied: idna<2.9,>=2.5 in c:\\programdata\\anaconda3\\lib\\site-packages (from requests->chart_studio) (2.8)\n",
      "Installing collected packages: chart-studio\n",
      "Successfully installed chart-studio-1.0.0\n"
     ]
    },
    {
     "data": {
      "text/html": [
       "        <script type=\"text/javascript\">\n",
       "        window.PlotlyConfig = {MathJaxConfig: 'local'};\n",
       "        if (window.MathJax) {MathJax.Hub.Config({SVG: {font: \"STIX-Web\"}});}\n",
       "        if (typeof require !== 'undefined') {\n",
       "        require.undef(\"plotly\");\n",
       "        requirejs.config({\n",
       "            paths: {\n",
       "                'plotly': ['https://cdn.plot.ly/plotly-latest.min']\n",
       "            }\n",
       "        });\n",
       "        require(['plotly'], function(Plotly) {\n",
       "            window._Plotly = Plotly;\n",
       "        });\n",
       "        }\n",
       "        </script>\n",
       "        "
      ]
     },
     "metadata": {},
     "output_type": "display_data"
    }
   ],
   "source": [
    "# import packages\n",
    "import pandas as pd\n",
    "import matplotlib.pyplot as plt\n",
    "import numpy as np\n",
    "from statsmodels.tsa.stattools import adfuller\n",
    "from statsmodels.graphics.tsaplots import plot_acf, plot_pacf\n",
    "from statsmodels.tsa.arima_model import ARIMA, ARMAResults\n",
    "from sklearn.metrics import mean_squared_error\n",
    "import ipywidgets as widgets\n",
    "\n",
    "# hide warnings\n",
    "import warnings\n",
    "warnings.simplefilter(\"ignore\")\n",
    "\n",
    "# checking if chart_studio_plotly is installed; install otherwise\n",
    "try:\n",
    "    import chart_studio.plotly as py\n",
    "except:\n",
    "    ! pip install chart_studio\n",
    "    import chart_studio.plotly as py\n",
    "\n",
    "from plotly.offline import download_plotlyjs, init_notebook_mode, plot, iplot\n",
    "import plotly.graph_objs as go\n",
    "init_notebook_mode(connected=True)\n",
    "\n",
    "# checking if seaborn is installed; install otherwise\n",
    "try:\n",
    "    import seaborn as sns\n",
    "except:\n",
    "    ! pip install --user seaborn\n",
    "    import seaborn as sns"
   ]
  },
  {
   "cell_type": "code",
   "execution_count": 44,
   "metadata": {},
   "outputs": [
    {
     "data": {
      "text/html": [
       "<div>\n",
       "<style scoped>\n",
       "    .dataframe tbody tr th:only-of-type {\n",
       "        vertical-align: middle;\n",
       "    }\n",
       "\n",
       "    .dataframe tbody tr th {\n",
       "        vertical-align: top;\n",
       "    }\n",
       "\n",
       "    .dataframe thead th {\n",
       "        text-align: right;\n",
       "    }\n",
       "</style>\n",
       "<table border=\"1\" class=\"dataframe\">\n",
       "  <thead>\n",
       "    <tr style=\"text-align: right;\">\n",
       "      <th></th>\n",
       "      <th>dt</th>\n",
       "      <th>AverageTemperature</th>\n",
       "      <th>AverageTemperatureUncertainty</th>\n",
       "      <th>City</th>\n",
       "      <th>Country</th>\n",
       "      <th>Latitude</th>\n",
       "      <th>Longitude</th>\n",
       "    </tr>\n",
       "  </thead>\n",
       "  <tbody>\n",
       "    <tr>\n",
       "      <th>0</th>\n",
       "      <td>1743-11-01</td>\n",
       "      <td>6.068</td>\n",
       "      <td>1.737</td>\n",
       "      <td>Århus</td>\n",
       "      <td>Denmark</td>\n",
       "      <td>57.05N</td>\n",
       "      <td>10.33E</td>\n",
       "    </tr>\n",
       "    <tr>\n",
       "      <th>1</th>\n",
       "      <td>1743-12-01</td>\n",
       "      <td>NaN</td>\n",
       "      <td>NaN</td>\n",
       "      <td>Århus</td>\n",
       "      <td>Denmark</td>\n",
       "      <td>57.05N</td>\n",
       "      <td>10.33E</td>\n",
       "    </tr>\n",
       "    <tr>\n",
       "      <th>2</th>\n",
       "      <td>1744-01-01</td>\n",
       "      <td>NaN</td>\n",
       "      <td>NaN</td>\n",
       "      <td>Århus</td>\n",
       "      <td>Denmark</td>\n",
       "      <td>57.05N</td>\n",
       "      <td>10.33E</td>\n",
       "    </tr>\n",
       "    <tr>\n",
       "      <th>3</th>\n",
       "      <td>1744-02-01</td>\n",
       "      <td>NaN</td>\n",
       "      <td>NaN</td>\n",
       "      <td>Århus</td>\n",
       "      <td>Denmark</td>\n",
       "      <td>57.05N</td>\n",
       "      <td>10.33E</td>\n",
       "    </tr>\n",
       "    <tr>\n",
       "      <th>4</th>\n",
       "      <td>1744-03-01</td>\n",
       "      <td>NaN</td>\n",
       "      <td>NaN</td>\n",
       "      <td>Århus</td>\n",
       "      <td>Denmark</td>\n",
       "      <td>57.05N</td>\n",
       "      <td>10.33E</td>\n",
       "    </tr>\n",
       "  </tbody>\n",
       "</table>\n",
       "</div>"
      ],
      "text/plain": [
       "           dt  AverageTemperature  AverageTemperatureUncertainty   City  \\\n",
       "0  1743-11-01               6.068                          1.737  Århus   \n",
       "1  1743-12-01                 NaN                            NaN  Århus   \n",
       "2  1744-01-01                 NaN                            NaN  Århus   \n",
       "3  1744-02-01                 NaN                            NaN  Århus   \n",
       "4  1744-03-01                 NaN                            NaN  Århus   \n",
       "\n",
       "   Country Latitude Longitude  \n",
       "0  Denmark   57.05N    10.33E  \n",
       "1  Denmark   57.05N    10.33E  \n",
       "2  Denmark   57.05N    10.33E  \n",
       "3  Denmark   57.05N    10.33E  \n",
       "4  Denmark   57.05N    10.33E  "
      ]
     },
     "execution_count": 44,
     "metadata": {},
     "output_type": "execute_result"
    }
   ],
   "source": [
    "# read the csv file into a DataFrame\n",
    "df = pd.read_csv(\"C:/Users/21696/Desktop/Data/GlobalLandTemperaturesByCity.csv\")\n",
    "df.head()"
   ]
  },
  {
   "cell_type": "code",
   "execution_count": 27,
   "metadata": {},
   "outputs": [],
   "source": [
    "\n",
    "# convert first column to DateTime format\n",
    "df['dt'] = pd.to_datetime(df['dt'])\n",
    "\n",
    "# set first column (dt) as the index column\n",
    "df.index = df['dt']\n",
    "del df['dt']\n",
    "\n",
    "# dropping AverageTemperatureUncertainty, Latitude and Longitude and combining City and Country into City\n",
    "df = df.drop({\"AverageTemperatureUncertainty\", \"Latitude\", \"Longitude\"}, 1)\n",
    "df[\"City\"] = df[\"City\"] + \", \" + df[\"Country\"]\n",
    "df = df.drop(\"Country\", 1)\n",
    "\n",
    "# removing all rows with NaN values\n",
    "df = df.dropna()\n",
    "\n",
    "# get list of all cities in dataset\n",
    "cities = set(df.City)"
   ]
  },
  {
   "cell_type": "code",
   "execution_count": 43,
   "metadata": {},
   "outputs": [
    {
     "data": {
      "text/html": [
       "<div>\n",
       "<style scoped>\n",
       "    .dataframe tbody tr th:only-of-type {\n",
       "        vertical-align: middle;\n",
       "    }\n",
       "\n",
       "    .dataframe tbody tr th {\n",
       "        vertical-align: top;\n",
       "    }\n",
       "\n",
       "    .dataframe thead th {\n",
       "        text-align: right;\n",
       "    }\n",
       "</style>\n",
       "<table border=\"1\" class=\"dataframe\">\n",
       "  <thead>\n",
       "    <tr style=\"text-align: right;\">\n",
       "      <th></th>\n",
       "      <th>AverageTemperature</th>\n",
       "      <th>City</th>\n",
       "    </tr>\n",
       "    <tr>\n",
       "      <th>dt</th>\n",
       "      <th></th>\n",
       "      <th></th>\n",
       "    </tr>\n",
       "  </thead>\n",
       "  <tbody>\n",
       "    <tr>\n",
       "      <th>1743-11-01</th>\n",
       "      <td>6.068</td>\n",
       "      <td>Århus, Denmark</td>\n",
       "    </tr>\n",
       "    <tr>\n",
       "      <th>1744-04-01</th>\n",
       "      <td>5.788</td>\n",
       "      <td>Århus, Denmark</td>\n",
       "    </tr>\n",
       "    <tr>\n",
       "      <th>1744-05-01</th>\n",
       "      <td>10.644</td>\n",
       "      <td>Århus, Denmark</td>\n",
       "    </tr>\n",
       "    <tr>\n",
       "      <th>1744-06-01</th>\n",
       "      <td>14.051</td>\n",
       "      <td>Århus, Denmark</td>\n",
       "    </tr>\n",
       "    <tr>\n",
       "      <th>1744-07-01</th>\n",
       "      <td>16.082</td>\n",
       "      <td>Århus, Denmark</td>\n",
       "    </tr>\n",
       "  </tbody>\n",
       "</table>\n",
       "</div>"
      ],
      "text/plain": [
       "            AverageTemperature            City\n",
       "dt                                            \n",
       "1743-11-01               6.068  Århus, Denmark\n",
       "1744-04-01               5.788  Århus, Denmark\n",
       "1744-05-01              10.644  Århus, Denmark\n",
       "1744-06-01              14.051  Århus, Denmark\n",
       "1744-07-01              16.082  Århus, Denmark"
      ]
     },
     "execution_count": 43,
     "metadata": {},
     "output_type": "execute_result"
    }
   ],
   "source": [
    "df.head()"
   ]
  },
  {
   "cell_type": "code",
   "execution_count": 42,
   "metadata": {},
   "outputs": [
    {
     "data": {
      "text/plain": [
       "{'Ibirité, Brazil',\n",
       " 'Bucaramanga, Colombia',\n",
       " 'Qujing, China',\n",
       " 'Franca, Brazil',\n",
       " 'Rio Cuarto, Argentina',\n",
       " 'Jakarta, Indonesia',\n",
       " 'Giugliano In Campania, Italy',\n",
       " 'Grand Rapids, United States',\n",
       " 'Laiwu, China',\n",
       " 'Zhaoqing, China',\n",
       " 'Corrientes, Argentina',\n",
       " 'Krishnanagar, India',\n",
       " 'Amsterdam, Netherlands',\n",
       " 'Aden, Yemen',\n",
       " 'Ashqelon, Israel',\n",
       " 'Kinshasa, Congo (Democratic Republic Of The)',\n",
       " 'Liverpool, United Kingdom',\n",
       " 'Thanjavur, India',\n",
       " 'Kursk, Russia',\n",
       " 'Mitaka, Japan',\n",
       " 'Kalmunai, Sri Lanka',\n",
       " 'Seattle, United States',\n",
       " 'Eindhoven, Netherlands',\n",
       " 'Iwatsuki, Japan',\n",
       " 'Varna, Bulgaria',\n",
       " 'Shahe, China',\n",
       " 'Toronto, Canada',\n",
       " 'Osnabrück, Germany',\n",
       " 'Velikiy Novgorod, Russia',\n",
       " 'Hachinohe, Japan',\n",
       " 'Nagareyama, Japan',\n",
       " 'Maroua, Cameroon',\n",
       " 'Malabo, Equatorial Guinea',\n",
       " 'Nandurbar, India',\n",
       " 'Pleven, Bulgaria',\n",
       " 'Milan, Italy',\n",
       " 'Chhapra, India',\n",
       " 'Cordoba, Argentina',\n",
       " 'Malegaon, India',\n",
       " 'Tempe, United States',\n",
       " 'Itajaí, Brazil',\n",
       " 'Zhaotong, China',\n",
       " 'London, United Kingdom',\n",
       " 'Ganganagar, India',\n",
       " 'Libreville, Gabon',\n",
       " 'Plock, Poland',\n",
       " 'Manbij, Syria',\n",
       " 'Salem, United States',\n",
       " 'Gyor, Hungary',\n",
       " 'Sergiyev Posad, Russia',\n",
       " 'Kaohsiung, Taiwan',\n",
       " 'Moriguchi, Japan',\n",
       " 'Dingzhou, China',\n",
       " 'Higüey, Dominican Republic',\n",
       " 'East Los Angeles, United States',\n",
       " 'Bharuch, India',\n",
       " 'Prokopyevsk, Russia',\n",
       " 'Sakai, Japan',\n",
       " 'Sapele, Nigeria',\n",
       " 'Xuanzhou, China',\n",
       " 'Palmira, Colombia',\n",
       " 'Maymyo, Burma',\n",
       " 'Netanya, Israel',\n",
       " 'Pôrto Seguro, Brazil',\n",
       " 'Port Au Prince, Haiti',\n",
       " 'San Pedro Sula, Honduras',\n",
       " 'Houston, United States',\n",
       " 'Onitsha, Nigeria',\n",
       " 'Zhicheng, China',\n",
       " 'Presidente Prudente, Brazil',\n",
       " 'Spokane, United States',\n",
       " 'Dadu, Pakistan',\n",
       " 'Aksaray, Turkey',\n",
       " 'Musashino, Japan',\n",
       " 'Zhuji, China',\n",
       " 'Warsaw, Poland',\n",
       " 'Otukpo, Nigeria',\n",
       " 'Zenica, Bosnia And Herzegovina',\n",
       " 'Cologne, Germany',\n",
       " 'Khartoum, Sudan',\n",
       " 'Morvi, India',\n",
       " 'Herne, Germany',\n",
       " 'Narsingdi, Bangladesh',\n",
       " 'Kawaguchi, Japan',\n",
       " 'Le Mans, France',\n",
       " 'Kohat, Pakistan',\n",
       " 'Chita, Russia',\n",
       " 'Ankang, China',\n",
       " 'Pimpri, India',\n",
       " 'Perth, Australia',\n",
       " 'Baneh, Iran',\n",
       " 'Kandy, Sri Lanka',\n",
       " 'Kermanshah, Iran',\n",
       " 'Tambov, Russia',\n",
       " 'Fresnillo, Mexico',\n",
       " 'Thrissur, India',\n",
       " 'Cary, United States',\n",
       " 'Kitakyushu, Japan',\n",
       " 'Dharmavaram, India',\n",
       " 'Ambur, India',\n",
       " 'Santiago, Chile',\n",
       " 'Morelia, Mexico',\n",
       " 'Uruapan, Mexico',\n",
       " 'Katsina, Nigeria',\n",
       " 'Killeen, United States',\n",
       " 'Jimma, Ethiopia',\n",
       " 'Metz, France',\n",
       " 'Larkana, Pakistan',\n",
       " 'Fortaleza, Brazil',\n",
       " 'Musoma, Tanzania',\n",
       " 'Acapulco, Mexico',\n",
       " 'Iráklion, Greece',\n",
       " 'La Rioja, Argentina',\n",
       " 'Palwal, India',\n",
       " 'Salihorsk, Belarus',\n",
       " 'Coquimbo, Chile',\n",
       " 'Stockport, United Kingdom',\n",
       " 'Chinandega, Nicaragua',\n",
       " 'Vinh, Vietnam',\n",
       " 'Jilin, China',\n",
       " 'Yangjiang, China',\n",
       " 'Taiyuan, China',\n",
       " 'Abakan, Russia',\n",
       " 'Zanjan, Iran',\n",
       " 'Chernivtsi, Ukraine',\n",
       " 'Clarksville, United States',\n",
       " 'Jember, Indonesia',\n",
       " 'Nova Iguaçu, Brazil',\n",
       " 'Santa Cruz De Tenerife, Spain',\n",
       " 'Abakaliki, Nigeria',\n",
       " 'Tembisa, South Africa',\n",
       " 'Monywa, Burma',\n",
       " 'Tel Aviv Yafo, Israel',\n",
       " 'Chelmsford, United Kingdom',\n",
       " 'Okrika, Nigeria',\n",
       " 'Cherkasy, Ukraine',\n",
       " 'Des Moines, United States',\n",
       " 'Urdaneta, Philippines',\n",
       " 'Riga, Latvia',\n",
       " 'My Tho, Vietnam',\n",
       " 'La Serena, Chile',\n",
       " 'Jiujiang, China',\n",
       " 'Davao, Philippines',\n",
       " 'Orange, United States',\n",
       " 'Irvine, United States',\n",
       " 'Rasht, Iran',\n",
       " 'Mataró, Spain',\n",
       " 'Alcalá De Henares, Spain',\n",
       " 'Alagoinhas, Brazil',\n",
       " 'Marília, Brazil',\n",
       " 'Fuyang, China',\n",
       " 'Pondicherry, India',\n",
       " 'Munich, Germany',\n",
       " 'Visalia, United States',\n",
       " 'Baicheng, China',\n",
       " 'Garoua, Cameroon',\n",
       " 'Pulandian, China',\n",
       " 'Zaria, Nigeria',\n",
       " 'Antalya, Turkey',\n",
       " 'Macapá, Brazil',\n",
       " 'Masjed E Soleyman, Iran',\n",
       " 'Muzaffarnagar, India',\n",
       " 'Tlaquepaque, Mexico',\n",
       " 'Chimalhuacán, Mexico',\n",
       " 'Drobeta Turnu Severin, Romania',\n",
       " 'Chula Vista, United States',\n",
       " 'Elektrostal, Russia',\n",
       " 'Chakwal, Pakistan',\n",
       " 'Yaan, China',\n",
       " 'Novosibirsk, Russia',\n",
       " 'Esenyurt, Turkey',\n",
       " 'Osorno, Chile',\n",
       " 'Imphal, India',\n",
       " 'Rostov Na Donu, Russia',\n",
       " 'Fuzhou, China',\n",
       " 'Pasuruan, Indonesia',\n",
       " 'Rio Claro, Brazil',\n",
       " 'Limeira, Brazil',\n",
       " 'Málaga, Spain',\n",
       " 'Macheng, China',\n",
       " 'Medan, Indonesia',\n",
       " 'Saint Denis, Reunion',\n",
       " 'Sobral, Brazil',\n",
       " 'Vladivostok, Russia',\n",
       " 'Swansea, United Kingdom',\n",
       " 'Nam Dinh, Vietnam',\n",
       " 'Barranquilla, Colombia',\n",
       " 'Habra, India',\n",
       " 'Ikorodu, Nigeria',\n",
       " 'Jiroft, Iran',\n",
       " 'Barbacena, Brazil',\n",
       " 'Raigarh, India',\n",
       " 'Carrefour, Haiti',\n",
       " 'Hafizabad, Pakistan',\n",
       " 'Suzano, Brazil',\n",
       " 'Pringsewu, Indonesia',\n",
       " 'Mandsaur, India',\n",
       " 'Boulogne Billancourt, France',\n",
       " 'Gijón, Spain',\n",
       " 'Newport News, United States',\n",
       " 'Pune, India',\n",
       " 'Ungaran, Indonesia',\n",
       " 'Beian, China',\n",
       " 'Mingaora, Pakistan',\n",
       " 'Farrukhabad, India',\n",
       " 'Rewari, India',\n",
       " 'Teshie, Ghana',\n",
       " 'Chorzow, Poland',\n",
       " 'Bragança Paulista, Brazil',\n",
       " 'Lisbon, Portugal',\n",
       " 'Westonaria, South Africa',\n",
       " 'Chungho, Taiwan',\n",
       " 'Kathmandu, Nepal',\n",
       " 'Colatina, Brazil',\n",
       " 'Dourados, Brazil',\n",
       " 'Nantong, China',\n",
       " 'Syracuse, United States',\n",
       " 'Port Louis, Mauritius',\n",
       " 'Surabaya, Indonesia',\n",
       " 'Achalpur, India',\n",
       " 'Plovdiv, Bulgaria',\n",
       " 'Cibitung, Indonesia',\n",
       " 'Amadora, Portugal',\n",
       " 'Changchun, China',\n",
       " 'Zama, Japan',\n",
       " 'Spring Valley, United States',\n",
       " 'Xuanhua, China',\n",
       " 'Toliary, Madagascar',\n",
       " 'Kaunas, Lithuania',\n",
       " 'Kadoma, Japan',\n",
       " 'Laredo, United States',\n",
       " 'Orsk, Russia',\n",
       " 'Liège, Belgium',\n",
       " 'Salavat, Russia',\n",
       " 'Gardez, Afghanistan',\n",
       " 'Bhuj, India',\n",
       " 'Bobo Dioulasso, Burkina Faso',\n",
       " 'Santa Catarina, Mexico',\n",
       " 'Kashihara, Japan',\n",
       " 'Obihiro, Japan',\n",
       " 'Shaoxing, China',\n",
       " 'Puerto Montt, Chile',\n",
       " 'Madanapalle, India',\n",
       " 'Sunderland, United Kingdom',\n",
       " 'Los Teques, Venezuela',\n",
       " 'Besançon, France',\n",
       " 'Helsinki, Finland',\n",
       " 'Bata, Equatorial Guinea',\n",
       " 'Miandoab, Iran',\n",
       " 'Matamoros, Mexico',\n",
       " 'Hat Yai, Thailand',\n",
       " 'Ho Chi Minh City, Vietnam',\n",
       " 'Ulubaria, India',\n",
       " 'Pamplona, Spain',\n",
       " 'Manta, Ecuador',\n",
       " 'Nha Trang, Vietnam',\n",
       " 'Ismailia, Egypt',\n",
       " 'Barueri, Brazil',\n",
       " 'Loa Janan, Indonesia',\n",
       " 'Montevideo, Uruguay',\n",
       " 'Luqiao, China',\n",
       " 'Nakhon Pathom, Thailand',\n",
       " 'Rostock, Germany',\n",
       " 'Godhra, India',\n",
       " 'Jamalpur, Bangladesh',\n",
       " 'Shenyang, China',\n",
       " 'Rafsanjan, Iran',\n",
       " 'Jaboatão, Brazil',\n",
       " 'Antananarivo, Madagascar',\n",
       " 'Reutlingen, Germany',\n",
       " 'Cedar Rapids, United States',\n",
       " 'Yushu, China',\n",
       " 'Zhangjiakou, China',\n",
       " 'Valparaiso, Chile',\n",
       " 'Naples, Italy',\n",
       " 'Nova Friburgo, Brazil',\n",
       " 'Belo Horizonte, Brazil',\n",
       " 'Mar Del Plata, Argentina',\n",
       " 'Vitória, Brazil',\n",
       " 'Yingzhong, China',\n",
       " 'Kawasaki, Japan',\n",
       " 'Yangzhou, China',\n",
       " 'La Paz, Mexico',\n",
       " 'Saarbrücken, Germany',\n",
       " 'Valencia, Spain',\n",
       " 'Minneapolis, United States',\n",
       " 'Uji, Japan',\n",
       " 'Eugene, United States',\n",
       " 'Niterói, Brazil',\n",
       " 'West Bromwich, United Kingdom',\n",
       " 'Tabriz, Iran',\n",
       " 'Guntakal, India',\n",
       " 'Fürth, Germany',\n",
       " 'Rangpur, Bangladesh',\n",
       " 'Tagum, Philippines',\n",
       " 'Chuzhou, China',\n",
       " 'Ikot Ekpene, Nigeria',\n",
       " 'Yenangyaung, Burma',\n",
       " 'Rewa, India',\n",
       " 'Çorlu, Turkey',\n",
       " 'Dundee, United Kingdom',\n",
       " 'Hubli, India',\n",
       " 'Mbouda, Cameroon',\n",
       " 'Banda, India',\n",
       " 'Dhule, India',\n",
       " 'Gongzhuling, China',\n",
       " 'Hachioji, Japan',\n",
       " 'Yushan, China',\n",
       " 'Mülheim, Germany',\n",
       " 'Jacareí, Brazil',\n",
       " 'Petapa, Guatemala',\n",
       " 'Badalona, Spain',\n",
       " 'Podgorica, Montenegro',\n",
       " 'Heihe, Russia',\n",
       " 'Plây Cu, Vietnam',\n",
       " 'Tongzhou, China',\n",
       " 'Pécs, Hungary',\n",
       " 'Isiro, Congo (Democratic Republic Of The)',\n",
       " 'Kimberley, South Africa',\n",
       " 'Madison, United States',\n",
       " 'Soyapango, El Salvador',\n",
       " 'Potgietersrus, South Africa',\n",
       " 'Fujinomiya, Japan',\n",
       " 'Shimla, India',\n",
       " 'Tapachula, Mexico',\n",
       " 'Asfi, Morocco',\n",
       " 'Ghaziabad, India',\n",
       " 'Asahikawa, Japan',\n",
       " 'Gujranwala, Pakistan',\n",
       " 'Kiel, Germany',\n",
       " 'Parakou, Benin',\n",
       " 'Samara, Russia',\n",
       " 'Kaolack, Senegal',\n",
       " 'Semey, Kazakhstan',\n",
       " 'Tarlac, Philippines',\n",
       " 'Binzhou, China',\n",
       " 'Omuta, Japan',\n",
       " 'Binangonan, Philippines',\n",
       " 'Bansbaria, India',\n",
       " 'Lexington Fayette, United States',\n",
       " 'Pate, Taiwan',\n",
       " 'Potsdam, Germany',\n",
       " 'Chaohu, China',\n",
       " 'Yokkaichi, Japan',\n",
       " 'Marv Dasht, Iran',\n",
       " 'Fuxin, China',\n",
       " 'Bengkulu, Indonesia',\n",
       " 'Huelva, Spain',\n",
       " 'Lancaster, United States',\n",
       " 'Los Angeles, United States',\n",
       " 'Santa Ana, El Salvador',\n",
       " 'Puebla, Mexico',\n",
       " 'Foggia, Italy',\n",
       " 'Maturín, Venezuela',\n",
       " 'Ravenna, Italy',\n",
       " 'Tsukuba, Japan',\n",
       " 'Fremont, United States',\n",
       " 'Passo Fundo, Brazil',\n",
       " 'Olinda, Brazil',\n",
       " 'Quetzaltenango, Guatemala',\n",
       " 'Bidar, India',\n",
       " 'Lages, Brazil',\n",
       " 'Gebze, Turkey',\n",
       " 'Butembo, Congo (Democratic Republic Of The)',\n",
       " 'Danshui, China',\n",
       " 'Rizhao, China',\n",
       " 'Temirtau, Kazakhstan',\n",
       " 'Derbent, Russia',\n",
       " 'Cariacica, Brazil',\n",
       " 'Yogyakarta, Indonesia',\n",
       " 'Barretos, Brazil',\n",
       " 'Rouen, France',\n",
       " 'Latur, India',\n",
       " 'São José, Brazil',\n",
       " 'Oktyabrskiy, Russia',\n",
       " 'Leiyang, China',\n",
       " 'Jaramana, Syria',\n",
       " 'Syzran, Russia',\n",
       " 'Caracas, Venezuela',\n",
       " 'Dongying, China',\n",
       " 'Cam Pha, Vietnam',\n",
       " 'Bhagalpur, India',\n",
       " 'Santa Rosa, United States',\n",
       " 'Amroha, India',\n",
       " 'Anda, China',\n",
       " 'Bhadreswar, India',\n",
       " 'Guatemala City, Guatemala',\n",
       " 'Hialeah, United States',\n",
       " 'Corpus Christi, United States',\n",
       " 'Detroit, United States',\n",
       " 'Soacha, Colombia',\n",
       " 'Camagüey, Cuba',\n",
       " 'Toda, Japan',\n",
       " 'Fontana, United States',\n",
       " 'Kanchrapara, India',\n",
       " 'Kanpur, India',\n",
       " 'Kurume, Japan',\n",
       " 'Guangshui, China',\n",
       " 'Babol, Iran',\n",
       " 'Gonbad E Qabus, Iran',\n",
       " 'Karlsruhe, Germany',\n",
       " 'Kamalia, Pakistan',\n",
       " 'Seoul, South Korea',\n",
       " 'Otaru, Japan',\n",
       " 'Funtua, Nigeria',\n",
       " 'Cianjur, Indonesia',\n",
       " 'North Shore, New Zealand',\n",
       " 'Newcastle, Australia',\n",
       " 'Colchester, United Kingdom',\n",
       " 'Getafe, Spain',\n",
       " 'Xiangfan, China',\n",
       " 'Americana, Brazil',\n",
       " 'Mytishchi, Russia',\n",
       " 'Anchorage, United States',\n",
       " 'Chittaurgarh, India',\n",
       " 'Costa Mesa, United States',\n",
       " 'Curitiba, Brazil',\n",
       " 'Kulti, India',\n",
       " 'Regina, Canada',\n",
       " 'Thiruvananthapuram, India',\n",
       " 'Araucária, Brazil',\n",
       " 'Tampico, Mexico',\n",
       " 'Sargodha, Pakistan',\n",
       " 'Paulista, Brazil',\n",
       " 'Sohag, Egypt',\n",
       " 'Kasur, Pakistan',\n",
       " 'Calamba, Philippines',\n",
       " 'Tokuyama, Japan',\n",
       " 'Eskisehir, Turkey',\n",
       " 'Gazipur, Bangladesh',\n",
       " 'Jiaojiang, China',\n",
       " 'Hosur, India',\n",
       " 'Linchuan, China',\n",
       " 'Nguru, Nigeria',\n",
       " 'Khulna, Bangladesh',\n",
       " 'Yichun, China',\n",
       " 'Miramar, United States',\n",
       " 'Dodoma, Tanzania',\n",
       " 'Tungi, Bangladesh',\n",
       " 'Ede, Netherlands',\n",
       " 'Governador Valadares, Brazil',\n",
       " 'Mbour, Senegal',\n",
       " 'Moratuwa, Sri Lanka',\n",
       " 'Tawau, Malaysia',\n",
       " 'Algeciras, Spain',\n",
       " 'Nice, France',\n",
       " 'Bago, Burma',\n",
       " 'Dzerzhinsk, Russia',\n",
       " 'Chiniot, Pakistan',\n",
       " 'Cuautitlán Izcalli, Mexico',\n",
       " 'Raurkela, India',\n",
       " 'Soweto, South Africa',\n",
       " 'Ota, Japan',\n",
       " 'Ziguinchor, Senegal',\n",
       " 'Resende, Brazil',\n",
       " 'Joliet, United States',\n",
       " 'Cuernavaca, Mexico',\n",
       " 'Dehra Dun, India',\n",
       " 'Caen, France',\n",
       " 'Herat, Afghanistan',\n",
       " 'Dalian, China',\n",
       " 'Hrodna, Belarus',\n",
       " 'Dimapur, India',\n",
       " 'Ashdod, Israel',\n",
       " 'Oruro, Bolivia',\n",
       " 'Do Rud, Iran',\n",
       " 'Solingen, Germany',\n",
       " 'Manila, Philippines',\n",
       " 'Formosa, Argentina',\n",
       " 'Shrirampur, India',\n",
       " 'Longyan, China',\n",
       " 'Riobamba, Ecuador',\n",
       " 'Surat Thani, Thailand',\n",
       " 'Rajpur, India',\n",
       " 'Kallithéa, Greece',\n",
       " 'Sabadell, Spain',\n",
       " 'Ponta Grossa, Brazil',\n",
       " 'Sogamoso, Colombia',\n",
       " 'Alexandria, Egypt',\n",
       " 'Pietersburg, South Africa',\n",
       " 'Saharsa, India',\n",
       " 'Chisinau, Moldova',\n",
       " 'Stavropol, Russia',\n",
       " 'Peterborough, United Kingdom',\n",
       " 'Bilaspur, India',\n",
       " 'Volgodonsk, Russia',\n",
       " 'Nanjing, China',\n",
       " 'Bengbu, China',\n",
       " 'Oulu, Finland',\n",
       " 'Talara, Peru',\n",
       " 'Portmore, Jamaica',\n",
       " 'Chernihiv, Ukraine',\n",
       " 'Nacala, Mozambique',\n",
       " 'Bahraich, India',\n",
       " 'Caxias, Brazil',\n",
       " 'Kragujevac, Serbia',\n",
       " 'Pingchen, Taiwan',\n",
       " 'Anshun, China',\n",
       " 'Waco, United States',\n",
       " 'Poá, Brazil',\n",
       " 'Belgorod, Russia',\n",
       " 'Palma Soriano, Cuba',\n",
       " 'Campo Grande, Brazil',\n",
       " 'Suleja, Nigeria',\n",
       " 'Sydney, Australia',\n",
       " 'Teluknaga, Indonesia',\n",
       " 'Pasarkemis, Indonesia',\n",
       " 'Wuhan, China',\n",
       " 'Zhaoyang, China',\n",
       " 'Jishou, China',\n",
       " 'Sorocaba, Brazil',\n",
       " 'Qazvin, Iran',\n",
       " 'Tuluá, Colombia',\n",
       " 'Jiupu, China',\n",
       " 'Suihua, China',\n",
       " 'Humen, China',\n",
       " 'Prato, Italy',\n",
       " 'Lambaré, Argentina',\n",
       " 'Norman, United States',\n",
       " 'Talisay, Philippines',\n",
       " 'Barcelona, Spain',\n",
       " 'Livingstone, Zambia',\n",
       " 'Muzaffarpur, India',\n",
       " 'Qarchak, Iran',\n",
       " 'Mobile, United States',\n",
       " 'Baranagar, India',\n",
       " 'Ahmadnagar, India',\n",
       " 'Lubango, Angola',\n",
       " 'Nobeoka, Japan',\n",
       " 'Torreón, Mexico',\n",
       " 'Firozabad, India',\n",
       " 'Rishra, India',\n",
       " 'Nalchik, Russia',\n",
       " 'Burhanpur, India',\n",
       " 'Liuzhou, China',\n",
       " 'Kansas City, United States',\n",
       " 'Nigel, South Africa',\n",
       " 'Shilong, China',\n",
       " 'Depok, Indonesia',\n",
       " 'Jinchang, China',\n",
       " 'Tama, Japan',\n",
       " 'Vladimir, Russia',\n",
       " 'Zhoukou, China',\n",
       " 'Ejigbo, Nigeria',\n",
       " 'Rajshahi, Bangladesh',\n",
       " 'Irbil, Iraq',\n",
       " 'Çorum, Turkey',\n",
       " 'Tilburg, Netherlands',\n",
       " 'Arak, Iran',\n",
       " 'Petrozavodsk, Russia',\n",
       " 'Dese, Ethiopia',\n",
       " 'Nottingham, United Kingdom',\n",
       " 'Caxias Do Sul, Brazil',\n",
       " 'Chofu, Japan',\n",
       " 'Patiala, India',\n",
       " 'Luziânia, Brazil',\n",
       " 'Shishou, China',\n",
       " 'Matola, Mozambique',\n",
       " 'Campinas, Brazil',\n",
       " 'Pavlodar, Kazakhstan',\n",
       " 'Inegol, Turkey',\n",
       " 'Melaka, Malaysia',\n",
       " \"San Pédro, Côte D'Ivoire\",\n",
       " 'Karnal, India',\n",
       " 'Toulon, France',\n",
       " 'Jiutepec, Mexico',\n",
       " 'Itaboraí, Brazil',\n",
       " 'Bhubaneswar, India',\n",
       " 'Kovrov, Russia',\n",
       " 'Palakkad, India',\n",
       " 'Cottbus, Germany',\n",
       " 'Santa Clarita, United States',\n",
       " 'Toyokawa, Japan',\n",
       " 'Victoria, Canada',\n",
       " 'Wollongong, Australia',\n",
       " 'Sari, Iran',\n",
       " 'Qostanay, Kazakhstan',\n",
       " 'Corona, United States',\n",
       " 'Ilebo, Congo (Democratic Republic Of The)',\n",
       " 'Kochi, India',\n",
       " 'Narayanganj, Bangladesh',\n",
       " 'Sosnowiec, Poland',\n",
       " 'Trujillo, Peru',\n",
       " 'Agra, India',\n",
       " 'Zalantun, China',\n",
       " 'Puno, Peru',\n",
       " 'Sinnar, Sudan',\n",
       " 'Encheng, China',\n",
       " 'Hanoi, Vietnam',\n",
       " 'Loja, Ecuador',\n",
       " 'New Delhi, India',\n",
       " 'Hengyang, China',\n",
       " 'Ube, Japan',\n",
       " 'Surgut, Russia',\n",
       " 'Torrejón De Ardoz, Spain',\n",
       " 'Wuning, China',\n",
       " 'Tiruvannamalai, India',\n",
       " 'Baia Mare, Romania',\n",
       " 'Villahermosa, Mexico',\n",
       " 'Dharan, Nepal',\n",
       " 'Awka, Nigeria',\n",
       " 'Mubi, Nigeria',\n",
       " 'Maceió, Brazil',\n",
       " 'Suriapet, India',\n",
       " 'Tucuman, Argentina',\n",
       " 'Allentown, United States',\n",
       " 'Rybinsk, Russia',\n",
       " 'Boksburg, South Africa',\n",
       " 'Bayrut, Lebanon',\n",
       " 'Sepatan, Indonesia',\n",
       " 'Quetta, Pakistan',\n",
       " 'Yaroslavl, Russia',\n",
       " 'Kenitra, Morocco',\n",
       " 'Colorado Springs, United States',\n",
       " 'Louisville, United States',\n",
       " 'Makati, Philippines',\n",
       " 'Salzburg, Austria',\n",
       " 'Jiangmen, China',\n",
       " 'Ajmer, India',\n",
       " 'Bhilwara, India',\n",
       " 'Cape Coast, Ghana',\n",
       " 'Guna, India',\n",
       " 'Pervouralsk, Russia',\n",
       " 'Darjiling, India',\n",
       " 'Qabis, Tunisia',\n",
       " 'Banja Luka, Bosnia And Herzegovina',\n",
       " 'San Luis, Argentina',\n",
       " 'Tomsk, Russia',\n",
       " 'Unnao, India',\n",
       " 'Perugia, Italy',\n",
       " 'Angarsk, Russia',\n",
       " 'Kiev, Ukraine',\n",
       " 'Dindigul, India',\n",
       " 'Sassari, Italy',\n",
       " 'Budapest, Hungary',\n",
       " 'Bamenda, Cameroon',\n",
       " 'Winnipeg, Canada',\n",
       " 'Koronadal, Philippines',\n",
       " 'Maputo, Mozambique',\n",
       " 'Gwalior, India',\n",
       " 'Muzaffargarh, Pakistan',\n",
       " 'Oyama, Japan',\n",
       " 'Bama, Nigeria',\n",
       " 'Koblenz, Germany',\n",
       " 'Pittsburgh, United States',\n",
       " 'Kansk, Russia',\n",
       " 'Pingshan, China',\n",
       " 'Rosario, Argentina',\n",
       " 'Baoding, China',\n",
       " 'Santander, Spain',\n",
       " 'Juiz De Fora, Brazil',\n",
       " 'Chandpur, Bangladesh',\n",
       " 'Kolpino, Russia',\n",
       " 'Susah, Tunisia',\n",
       " 'Cartago, Colombia',\n",
       " 'Kemang, Indonesia',\n",
       " 'Bhiwani, India',\n",
       " 'Bihar, India',\n",
       " 'Faisalabad, Pakistan',\n",
       " 'Dudley, United Kingdom',\n",
       " 'Plymouth, United Kingdom',\n",
       " 'New Orleans, United States',\n",
       " 'Santa Clara, Cuba',\n",
       " 'Sirajganj, Bangladesh',\n",
       " 'Ternate, Indonesia',\n",
       " 'Nakhon Ratchasima, Thailand',\n",
       " 'Tepic, Mexico',\n",
       " 'Marawi, Philippines',\n",
       " 'Bergamo, Italy',\n",
       " 'Katowice, Poland',\n",
       " 'Klang, Malaysia',\n",
       " 'Haimen, China',\n",
       " 'Ruian, China',\n",
       " 'Rancho Cucamonga, United States',\n",
       " 'Yazd, Iran',\n",
       " 'Hiratsuka, Japan',\n",
       " 'Ashikaga, Japan',\n",
       " 'Cangzhou, China',\n",
       " 'Alor Setar, Malaysia',\n",
       " 'Duisburg, Germany',\n",
       " 'Lawang, Indonesia',\n",
       " 'Chifeng, China',\n",
       " 'Albacete, Spain',\n",
       " 'Hoshangabad, India',\n",
       " 'Seversk, Russia',\n",
       " 'Masaya, Nicaragua',\n",
       " 'Karamay, China',\n",
       " 'Toyohashi, Japan',\n",
       " 'Odintsovo, Russia',\n",
       " 'Bandundu, Congo (Democratic Republic Of The)',\n",
       " 'Ferraz De Vasconcelos, Brazil',\n",
       " 'Henderson, United States',\n",
       " 'Barakpur, India',\n",
       " 'Fianarantsoa, Madagascar',\n",
       " 'Vilnius, Lithuania',\n",
       " 'Tarhunah, Libya',\n",
       " 'Posadas, Argentina',\n",
       " 'Yueyang, China',\n",
       " 'Mufulira, Zambia',\n",
       " 'Downey, United States',\n",
       " 'Kelowna, Canada',\n",
       " 'Kuito, Angola',\n",
       " 'Angers, France',\n",
       " 'Pudukkottai, India',\n",
       " 'São José Dos Campos, Brazil',\n",
       " 'Cuenca, Ecuador',\n",
       " 'Shanghai, China',\n",
       " 'Tieli, China',\n",
       " 'Nanpiao, China',\n",
       " 'Nzérékoré, Guinea',\n",
       " 'Kaili, China',\n",
       " 'Palu, Indonesia',\n",
       " 'Natal, Brazil',\n",
       " 'Si Racha, Thailand',\n",
       " 'Iquique, Chile',\n",
       " 'Nezahualcóyotl, Mexico',\n",
       " 'Tainan, Taiwan',\n",
       " 'Cartagena, Colombia',\n",
       " 'Kerch, Ukraine',\n",
       " 'Najran, Saudi Arabia',\n",
       " 'Xiaolan, China',\n",
       " 'Ekibastuz, Kazakhstan',\n",
       " 'Guayaquil, Ecuador',\n",
       " 'Kirovohrad, Ukraine',\n",
       " 'Kisaran, Indonesia',\n",
       " 'Sholapur, India',\n",
       " 'Hsichih, Taiwan',\n",
       " 'Urfa, Turkey',\n",
       " 'Ikole, Nigeria',\n",
       " 'Kashan, Iran',\n",
       " 'Antakya, Turkey',\n",
       " 'Windsor, United States',\n",
       " 'Lübeck, Germany',\n",
       " 'Waru, Indonesia',\n",
       " 'Bharatpur, Nepal',\n",
       " 'Mercedes, Argentina',\n",
       " 'Mossoró, Brazil',\n",
       " 'Serpukhov, Russia',\n",
       " 'Bacoor, Philippines',\n",
       " 'Jammu, India',\n",
       " 'Manaus, Brazil',\n",
       " 'Pilibhit, India',\n",
       " 'Thanyaburi, Thailand',\n",
       " 'Kusti, Sudan',\n",
       " 'Soreang, Indonesia',\n",
       " 'Girardot, Colombia',\n",
       " \"Soubré, Côte D'Ivoire\",\n",
       " 'Villeurbanne, France',\n",
       " 'Qingyuan, China',\n",
       " 'Ciudad Guayana, Venezuela',\n",
       " 'Pasir Gudang, Malaysia',\n",
       " 'Nawabshah, Pakistan',\n",
       " 'Graz, Austria',\n",
       " 'Pinsk, Belarus',\n",
       " 'Simi Valley, United States',\n",
       " 'Tangerang, Indonesia',\n",
       " 'Dasmariñas, Philippines',\n",
       " 'Rawalpindi, Pakistan',\n",
       " 'Iskenderun, Turkey',\n",
       " 'Makasar, Indonesia',\n",
       " 'Porbandar, India',\n",
       " 'Antioch, United States',\n",
       " 'Durgapur, India',\n",
       " 'Gandhinagar, India',\n",
       " 'Abu Dhabi, United Arab Emirates',\n",
       " 'Florencia, Colombia',\n",
       " 'Chapecó, Brazil',\n",
       " 'Essen, Germany',\n",
       " 'Luchou, Taiwan',\n",
       " 'Basildon, United Kingdom',\n",
       " 'Iruma, Japan',\n",
       " 'Badlapur, India',\n",
       " 'Nanchong, China',\n",
       " 'Stoke On Trent, United Kingdom',\n",
       " 'Tirupati, India',\n",
       " 'Ulhasnagar, India',\n",
       " 'Baghdad, Iraq',\n",
       " 'Bukan, Iran',\n",
       " 'Bulawayo, Zimbabwe',\n",
       " 'Garanhuns, Brazil',\n",
       " 'Guatire, Venezuela',\n",
       " 'Jalalabad, Afghanistan',\n",
       " 'Novi Sad, Serbia',\n",
       " 'Peristérion, Greece',\n",
       " 'Xinzhou, China',\n",
       " 'Linxi, China',\n",
       " 'Quelimane, Mozambique',\n",
       " 'Abuja, Nigeria',\n",
       " 'Bauru, Brazil',\n",
       " 'Jiaozhou, China',\n",
       " 'Mezhdurechensk, Russia',\n",
       " 'Halifax, Canada',\n",
       " 'Embu, Brazil',\n",
       " 'Sokoto, Nigeria',\n",
       " 'Newcastle Upon Tyne, United Kingdom',\n",
       " 'Winston Salem, United States',\n",
       " 'Mathura, India',\n",
       " 'Gudivada, India',\n",
       " 'Ji Paraná, Brazil',\n",
       " 'Seoni, India',\n",
       " 'Queluz, Portugal',\n",
       " 'Mostar, Bosnia And Herzegovina',\n",
       " 'Piura, Peru',\n",
       " 'Yichang, China',\n",
       " 'Reggio Di Calabria, Italy',\n",
       " 'Gold Coast, Australia',\n",
       " 'Awassa, Ethiopia',\n",
       " 'Jhansi, India',\n",
       " 'Rochester, United States',\n",
       " 'Cambridge, United States',\n",
       " 'San Bernardino, United States',\n",
       " 'Komatsu, Japan',\n",
       " 'West Covina, United States',\n",
       " 'Chattanooga, United States',\n",
       " 'Palmas, Brazil',\n",
       " 'Leuwiliang, Indonesia',\n",
       " 'Manado, Indonesia',\n",
       " 'Manchester, United Kingdom',\n",
       " 'Hanumangarh, India',\n",
       " 'Frankfurt, Germany',\n",
       " 'Malambo, Colombia',\n",
       " 'Angra Dos Reis, Brazil',\n",
       " 'Halisahar, India',\n",
       " 'Itami, Japan',\n",
       " 'Srikakulam, India',\n",
       " 'Vanderbijlpark, South Africa',\n",
       " 'Voronezh, Russia',\n",
       " 'Tucson, United States',\n",
       " 'Brussels, Belgium',\n",
       " 'Rach Gia, Vietnam',\n",
       " 'Yatsushiro, Japan',\n",
       " 'Aktau, Kazakhstan',\n",
       " 'Verona, Italy',\n",
       " 'Zhuhai, China',\n",
       " 'Gashua, Nigeria',\n",
       " 'Lemesos, Cyprus',\n",
       " 'Pingxiang, China',\n",
       " 'Chicago, United States',\n",
       " 'Townsville, Australia',\n",
       " 'Irbid, Jordan',\n",
       " 'Madhyamgram, India',\n",
       " 'Kitchener, Canada',\n",
       " 'Kabankalan, Philippines',\n",
       " 'Bharatpur, India',\n",
       " 'Barisal, Bangladesh',\n",
       " 'Shashi, China',\n",
       " 'Maler Kotla, India',\n",
       " 'Khardaha, India',\n",
       " 'Spanish Town, Jamaica',\n",
       " 'Cadiz, Spain',\n",
       " 'Licheng, China',\n",
       " 'Zhuozhou, China',\n",
       " 'Bandar Penggaram, Malaysia',\n",
       " 'Almetyevsk, Russia',\n",
       " 'Nantes, France',\n",
       " 'Parsabad, Iran',\n",
       " 'Dhaulpur, India',\n",
       " 'Southend On Sea, United Kingdom',\n",
       " 'Peshawar, Pakistan',\n",
       " 'Yinchuan, China',\n",
       " 'Obosi, Nigeria',\n",
       " 'George, South Africa',\n",
       " 'Okara, Pakistan',\n",
       " 'Haifa, Israel',\n",
       " 'Shinyanga, Tanzania',\n",
       " 'Hulan Ergi, China',\n",
       " 'Montería, Colombia',\n",
       " 'Yanji, China',\n",
       " 'Miyakonojo, Japan',\n",
       " 'Kremenchuk, Ukraine',\n",
       " 'El Limón, Venezuela',\n",
       " 'Thanesar, India',\n",
       " 'Mauá, Brazil',\n",
       " 'Charleston, United States',\n",
       " 'Cúa, Venezuela',\n",
       " 'Chandannagar, India',\n",
       " 'Bugama, Nigeria',\n",
       " 'Odesa, Ukraine',\n",
       " 'Kediri, Indonesia',\n",
       " 'Kurashiki, Japan',\n",
       " 'Bangalore, India',\n",
       " 'Foshan, China',\n",
       " 'Veracruz, Mexico',\n",
       " 'Baidyabati, India',\n",
       " 'Huadian, China',\n",
       " 'Gaozhou, China',\n",
       " 'San Mateo, Philippines',\n",
       " 'Gloucester, United Kingdom',\n",
       " 'Almere, Netherlands',\n",
       " 'Akashi, Japan',\n",
       " 'Kollam, India',\n",
       " 'Sandakan, Malaysia',\n",
       " 'Lower Hutt, New Zealand',\n",
       " 'Lahore, Pakistan',\n",
       " 'Luoyang, China',\n",
       " 'Pinar Del Río, Cuba',\n",
       " 'Birnin Kebbi, Nigeria',\n",
       " \"Agboville, Côte D'Ivoire\",\n",
       " 'Izumi, Japan',\n",
       " 'Wazirabad, Pakistan',\n",
       " 'Windhoek, Namibia',\n",
       " 'Bantou, China',\n",
       " 'Xining, China',\n",
       " 'Gusau, Nigeria',\n",
       " 'Witten, Germany',\n",
       " 'Las Palmas, Spain',\n",
       " 'Luque, Paraguay',\n",
       " 'Sayama, Japan',\n",
       " 'Elblag, Poland',\n",
       " 'Duma, Syria',\n",
       " 'La Vega, Dominican Republic',\n",
       " 'Moji Das Cruzes, Brazil',\n",
       " 'Brownsville, United States',\n",
       " 'Tongling, China',\n",
       " 'Tegal, Indonesia',\n",
       " 'Mashhad, Iran',\n",
       " 'Oslo, Norway',\n",
       " 'Panvel, India',\n",
       " 'Pasadena, United States',\n",
       " 'Canberra, Australia',\n",
       " 'Sawangan, Indonesia',\n",
       " 'Brakpan, South Africa',\n",
       " 'Baripada, India',\n",
       " 'Nagaoka, Japan',\n",
       " 'Würzburg, Germany',\n",
       " 'Lakhimpur, India',\n",
       " 'Karawang, Indonesia',\n",
       " 'Xichang, China',\n",
       " 'Dimitrovgrad, Russia',\n",
       " 'Bytom, Poland',\n",
       " 'North Las Vegas, United States',\n",
       " 'Johor Bahru, Malaysia',\n",
       " 'Adilabad, India',\n",
       " 'Córdoba, Spain',\n",
       " 'Yulin, China',\n",
       " 'Yaizu, Japan',\n",
       " 'Cabanatuan, Philippines',\n",
       " 'Okazaki, Japan',\n",
       " 'Angren, Uzbekistan',\n",
       " 'Indaiatuba, Brazil',\n",
       " 'Manisa, Turkey',\n",
       " 'Navadwip, India',\n",
       " 'Cubatão, Brazil',\n",
       " 'Yaoundé, Cameroon',\n",
       " 'Yavatmal, India',\n",
       " 'Cancún, Mexico',\n",
       " 'Kuantan, Malaysia',\n",
       " 'Aswan, Egypt',\n",
       " 'Lusaka, Zambia',\n",
       " 'Ostrava, Czech Republic',\n",
       " 'Bordeaux, France',\n",
       " 'Surat, India',\n",
       " 'Zuwarah, Libya',\n",
       " 'Kalol, India',\n",
       " 'Kadoma, Zimbabwe',\n",
       " 'Rabat, Morocco',\n",
       " 'Burgos, Spain',\n",
       " 'Gorzow Wielkopolski, Poland',\n",
       " 'Cairo, Egypt',\n",
       " 'Naihati, India',\n",
       " 'Franco Da Rocha, Brazil',\n",
       " 'Geelong, Australia',\n",
       " 'Cagua, Venezuela',\n",
       " 'Kaithal, India',\n",
       " 'Maisuru, India',\n",
       " 'Erlangen, Germany',\n",
       " 'Los Angeles, Chile',\n",
       " 'Kobe, Japan',\n",
       " 'Banyuwangi, Indonesia',\n",
       " 'Durrës, Albania',\n",
       " 'López Mateos, Mexico',\n",
       " 'El Tigre, Venezuela',\n",
       " 'João Pessoa, Brazil',\n",
       " 'Maracaibo, Venezuela',\n",
       " 'Niigata, Japan',\n",
       " 'Laiyang, China',\n",
       " 'Newport, United Kingdom',\n",
       " 'Salt Lake City, United States',\n",
       " 'Calabozo, Venezuela',\n",
       " 'Iranshahr, Iran',\n",
       " 'Bida, Nigeria',\n",
       " 'Vitória De Santo Antão, Brazil',\n",
       " 'Dabrowa Gornicza, Poland',\n",
       " 'Chelyabinsk, Russia',\n",
       " 'Ludwigshafen, Germany',\n",
       " 'Focsani, Romania',\n",
       " 'Basel, Switzerland',\n",
       " 'Rae Bareli, India',\n",
       " 'Springs, South Africa',\n",
       " 'Minna, Nigeria',\n",
       " 'Shahjahanpur, India',\n",
       " 'Cluj Napoca, Romania',\n",
       " 'Meycauayan, Philippines',\n",
       " 'Novocheboksarsk, Russia',\n",
       " 'Chetumal, Mexico',\n",
       " 'Palanpur, India',\n",
       " 'Leshan, China',\n",
       " 'Saint Petersburg, United States',\n",
       " 'Türkmenabat, Turkmenistan',\n",
       " 'Tbilisi, Georgia',\n",
       " ...}"
      ]
     },
     "execution_count": 42,
     "metadata": {},
     "output_type": "execute_result"
    }
   ],
   "source": [
    "set(df.City)"
   ]
  },
  {
   "cell_type": "code",
   "execution_count": 38,
   "metadata": {},
   "outputs": [
    {
     "name": "stdout",
     "output_type": "stream",
     "text": [
      "dt\n",
      "1743-11-01         Århus, Denmark\n",
      "1744-04-01         Århus, Denmark\n",
      "1744-05-01         Århus, Denmark\n",
      "1744-06-01         Århus, Denmark\n",
      "1744-07-01         Århus, Denmark\n",
      "1744-09-01         Århus, Denmark\n",
      "1744-10-01         Århus, Denmark\n",
      "1744-11-01         Århus, Denmark\n",
      "1744-12-01         Århus, Denmark\n",
      "1745-01-01         Århus, Denmark\n",
      "1745-02-01         Århus, Denmark\n",
      "1745-03-01         Århus, Denmark\n",
      "1745-04-01         Århus, Denmark\n",
      "1750-01-01         Århus, Denmark\n",
      "1750-02-01         Århus, Denmark\n",
      "1750-03-01         Århus, Denmark\n",
      "1750-04-01         Århus, Denmark\n",
      "1750-05-01         Århus, Denmark\n",
      "1750-06-01         Århus, Denmark\n",
      "1750-07-01         Århus, Denmark\n",
      "1750-08-01         Århus, Denmark\n",
      "1750-09-01         Århus, Denmark\n",
      "1750-10-01         Århus, Denmark\n",
      "1750-12-01         Århus, Denmark\n",
      "1751-01-01         Århus, Denmark\n",
      "1751-02-01         Århus, Denmark\n",
      "1751-03-01         Århus, Denmark\n",
      "1751-04-01         Århus, Denmark\n",
      "1751-06-01         Århus, Denmark\n",
      "1751-07-01         Århus, Denmark\n",
      "                     ...         \n",
      "2011-03-01    Zwolle, Netherlands\n",
      "2011-04-01    Zwolle, Netherlands\n",
      "2011-05-01    Zwolle, Netherlands\n",
      "2011-06-01    Zwolle, Netherlands\n",
      "2011-07-01    Zwolle, Netherlands\n",
      "2011-08-01    Zwolle, Netherlands\n",
      "2011-09-01    Zwolle, Netherlands\n",
      "2011-10-01    Zwolle, Netherlands\n",
      "2011-11-01    Zwolle, Netherlands\n",
      "2011-12-01    Zwolle, Netherlands\n",
      "2012-01-01    Zwolle, Netherlands\n",
      "2012-02-01    Zwolle, Netherlands\n",
      "2012-03-01    Zwolle, Netherlands\n",
      "2012-04-01    Zwolle, Netherlands\n",
      "2012-05-01    Zwolle, Netherlands\n",
      "2012-06-01    Zwolle, Netherlands\n",
      "2012-07-01    Zwolle, Netherlands\n",
      "2012-08-01    Zwolle, Netherlands\n",
      "2012-09-01    Zwolle, Netherlands\n",
      "2012-10-01    Zwolle, Netherlands\n",
      "2012-11-01    Zwolle, Netherlands\n",
      "2012-12-01    Zwolle, Netherlands\n",
      "2013-01-01    Zwolle, Netherlands\n",
      "2013-02-01    Zwolle, Netherlands\n",
      "2013-03-01    Zwolle, Netherlands\n",
      "2013-04-01    Zwolle, Netherlands\n",
      "2013-05-01    Zwolle, Netherlands\n",
      "2013-06-01    Zwolle, Netherlands\n",
      "2013-07-01    Zwolle, Netherlands\n",
      "2013-08-01    Zwolle, Netherlands\n",
      "Name: City, Length: 8235082, dtype: object\n"
     ]
    }
   ],
   "source": [
    "print(df['City'])"
   ]
  },
  {
   "cell_type": "code",
   "execution_count": 39,
   "metadata": {},
   "outputs": [
    {
     "data": {
      "text/plain": [
       "dt\n",
       "1743-11-01         Århus, Denmark\n",
       "1744-04-01         Århus, Denmark\n",
       "1744-05-01         Århus, Denmark\n",
       "1744-06-01         Århus, Denmark\n",
       "1744-07-01         Århus, Denmark\n",
       "1744-09-01         Århus, Denmark\n",
       "1744-10-01         Århus, Denmark\n",
       "1744-11-01         Århus, Denmark\n",
       "1744-12-01         Århus, Denmark\n",
       "1745-01-01         Århus, Denmark\n",
       "1745-02-01         Århus, Denmark\n",
       "1745-03-01         Århus, Denmark\n",
       "1745-04-01         Århus, Denmark\n",
       "1750-01-01         Århus, Denmark\n",
       "1750-02-01         Århus, Denmark\n",
       "1750-03-01         Århus, Denmark\n",
       "1750-04-01         Århus, Denmark\n",
       "1750-05-01         Århus, Denmark\n",
       "1750-06-01         Århus, Denmark\n",
       "1750-07-01         Århus, Denmark\n",
       "1750-08-01         Århus, Denmark\n",
       "1750-09-01         Århus, Denmark\n",
       "1750-10-01         Århus, Denmark\n",
       "1750-12-01         Århus, Denmark\n",
       "1751-01-01         Århus, Denmark\n",
       "1751-02-01         Århus, Denmark\n",
       "1751-03-01         Århus, Denmark\n",
       "1751-04-01         Århus, Denmark\n",
       "1751-06-01         Århus, Denmark\n",
       "1751-07-01         Århus, Denmark\n",
       "                     ...         \n",
       "2011-03-01    Zwolle, Netherlands\n",
       "2011-04-01    Zwolle, Netherlands\n",
       "2011-05-01    Zwolle, Netherlands\n",
       "2011-06-01    Zwolle, Netherlands\n",
       "2011-07-01    Zwolle, Netherlands\n",
       "2011-08-01    Zwolle, Netherlands\n",
       "2011-09-01    Zwolle, Netherlands\n",
       "2011-10-01    Zwolle, Netherlands\n",
       "2011-11-01    Zwolle, Netherlands\n",
       "2011-12-01    Zwolle, Netherlands\n",
       "2012-01-01    Zwolle, Netherlands\n",
       "2012-02-01    Zwolle, Netherlands\n",
       "2012-03-01    Zwolle, Netherlands\n",
       "2012-04-01    Zwolle, Netherlands\n",
       "2012-05-01    Zwolle, Netherlands\n",
       "2012-06-01    Zwolle, Netherlands\n",
       "2012-07-01    Zwolle, Netherlands\n",
       "2012-08-01    Zwolle, Netherlands\n",
       "2012-09-01    Zwolle, Netherlands\n",
       "2012-10-01    Zwolle, Netherlands\n",
       "2012-11-01    Zwolle, Netherlands\n",
       "2012-12-01    Zwolle, Netherlands\n",
       "2013-01-01    Zwolle, Netherlands\n",
       "2013-02-01    Zwolle, Netherlands\n",
       "2013-03-01    Zwolle, Netherlands\n",
       "2013-04-01    Zwolle, Netherlands\n",
       "2013-05-01    Zwolle, Netherlands\n",
       "2013-06-01    Zwolle, Netherlands\n",
       "2013-07-01    Zwolle, Netherlands\n",
       "2013-08-01    Zwolle, Netherlands\n",
       "Name: City, Length: 8235082, dtype: object"
      ]
     },
     "execution_count": 39,
     "metadata": {},
     "output_type": "execute_result"
    }
   ],
   "source": [
    "df.City"
   ]
  },
  {
   "cell_type": "code",
   "execution_count": 41,
   "metadata": {},
   "outputs": [
    {
     "data": {
      "text/html": [
       "<div>\n",
       "<style scoped>\n",
       "    .dataframe tbody tr th:only-of-type {\n",
       "        vertical-align: middle;\n",
       "    }\n",
       "\n",
       "    .dataframe tbody tr th {\n",
       "        vertical-align: top;\n",
       "    }\n",
       "\n",
       "    .dataframe thead th {\n",
       "        text-align: right;\n",
       "    }\n",
       "</style>\n",
       "<table border=\"1\" class=\"dataframe\">\n",
       "  <thead>\n",
       "    <tr style=\"text-align: right;\">\n",
       "      <th></th>\n",
       "      <th>AverageTemperature</th>\n",
       "    </tr>\n",
       "    <tr>\n",
       "      <th>dt</th>\n",
       "      <th></th>\n",
       "    </tr>\n",
       "  </thead>\n",
       "  <tbody>\n",
       "    <tr>\n",
       "      <th>1743-11-01</th>\n",
       "      <td>3.264</td>\n",
       "    </tr>\n",
       "    <tr>\n",
       "      <th>1744-04-01</th>\n",
       "      <td>9.788</td>\n",
       "    </tr>\n",
       "    <tr>\n",
       "      <th>1744-05-01</th>\n",
       "      <td>15.708</td>\n",
       "    </tr>\n",
       "    <tr>\n",
       "      <th>1744-06-01</th>\n",
       "      <td>21.210</td>\n",
       "    </tr>\n",
       "    <tr>\n",
       "      <th>1744-07-01</th>\n",
       "      <td>22.207</td>\n",
       "    </tr>\n",
       "    <tr>\n",
       "      <th>1744-09-01</th>\n",
       "      <td>14.922</td>\n",
       "    </tr>\n",
       "    <tr>\n",
       "      <th>1744-10-01</th>\n",
       "      <td>8.968</td>\n",
       "    </tr>\n",
       "    <tr>\n",
       "      <th>1744-11-01</th>\n",
       "      <td>3.161</td>\n",
       "    </tr>\n",
       "    <tr>\n",
       "      <th>1744-12-01</th>\n",
       "      <td>-2.681</td>\n",
       "    </tr>\n",
       "    <tr>\n",
       "      <th>1745-01-01</th>\n",
       "      <td>-2.363</td>\n",
       "    </tr>\n",
       "    <tr>\n",
       "      <th>1745-02-01</th>\n",
       "      <td>-2.671</td>\n",
       "    </tr>\n",
       "    <tr>\n",
       "      <th>1745-03-01</th>\n",
       "      <td>1.363</td>\n",
       "    </tr>\n",
       "    <tr>\n",
       "      <th>1745-04-01</th>\n",
       "      <td>8.209</td>\n",
       "    </tr>\n",
       "    <tr>\n",
       "      <th>1750-01-01</th>\n",
       "      <td>-4.310</td>\n",
       "    </tr>\n",
       "    <tr>\n",
       "      <th>1750-02-01</th>\n",
       "      <td>-2.719</td>\n",
       "    </tr>\n",
       "    <tr>\n",
       "      <th>1750-03-01</th>\n",
       "      <td>2.773</td>\n",
       "    </tr>\n",
       "    <tr>\n",
       "      <th>1750-04-01</th>\n",
       "      <td>8.848</td>\n",
       "    </tr>\n",
       "    <tr>\n",
       "      <th>1750-05-01</th>\n",
       "      <td>15.411</td>\n",
       "    </tr>\n",
       "    <tr>\n",
       "      <th>1750-06-01</th>\n",
       "      <td>19.017</td>\n",
       "    </tr>\n",
       "    <tr>\n",
       "      <th>1750-07-01</th>\n",
       "      <td>24.203</td>\n",
       "    </tr>\n",
       "    <tr>\n",
       "      <th>1750-08-01</th>\n",
       "      <td>22.135</td>\n",
       "    </tr>\n",
       "    <tr>\n",
       "      <th>1750-09-01</th>\n",
       "      <td>17.445</td>\n",
       "    </tr>\n",
       "    <tr>\n",
       "      <th>1750-10-01</th>\n",
       "      <td>9.076</td>\n",
       "    </tr>\n",
       "    <tr>\n",
       "      <th>1750-12-01</th>\n",
       "      <td>-1.093</td>\n",
       "    </tr>\n",
       "    <tr>\n",
       "      <th>1751-01-01</th>\n",
       "      <td>-3.591</td>\n",
       "    </tr>\n",
       "    <tr>\n",
       "      <th>1751-02-01</th>\n",
       "      <td>-2.051</td>\n",
       "    </tr>\n",
       "    <tr>\n",
       "      <th>1751-03-01</th>\n",
       "      <td>3.256</td>\n",
       "    </tr>\n",
       "    <tr>\n",
       "      <th>1751-04-01</th>\n",
       "      <td>7.992</td>\n",
       "    </tr>\n",
       "    <tr>\n",
       "      <th>1751-06-01</th>\n",
       "      <td>20.724</td>\n",
       "    </tr>\n",
       "    <tr>\n",
       "      <th>1751-07-01</th>\n",
       "      <td>22.668</td>\n",
       "    </tr>\n",
       "    <tr>\n",
       "      <th>...</th>\n",
       "      <td>...</td>\n",
       "    </tr>\n",
       "    <tr>\n",
       "      <th>2011-04-01</th>\n",
       "      <td>10.555</td>\n",
       "    </tr>\n",
       "    <tr>\n",
       "      <th>2011-05-01</th>\n",
       "      <td>16.917</td>\n",
       "    </tr>\n",
       "    <tr>\n",
       "      <th>2011-06-01</th>\n",
       "      <td>21.032</td>\n",
       "    </tr>\n",
       "    <tr>\n",
       "      <th>2011-07-01</th>\n",
       "      <td>24.564</td>\n",
       "    </tr>\n",
       "    <tr>\n",
       "      <th>2011-08-01</th>\n",
       "      <td>22.130</td>\n",
       "    </tr>\n",
       "    <tr>\n",
       "      <th>2011-09-01</th>\n",
       "      <td>19.301</td>\n",
       "    </tr>\n",
       "    <tr>\n",
       "      <th>2011-10-01</th>\n",
       "      <td>12.001</td>\n",
       "    </tr>\n",
       "    <tr>\n",
       "      <th>2011-11-01</th>\n",
       "      <td>8.013</td>\n",
       "    </tr>\n",
       "    <tr>\n",
       "      <th>2011-12-01</th>\n",
       "      <td>2.987</td>\n",
       "    </tr>\n",
       "    <tr>\n",
       "      <th>2012-01-01</th>\n",
       "      <td>-0.041</td>\n",
       "    </tr>\n",
       "    <tr>\n",
       "      <th>2012-02-01</th>\n",
       "      <td>2.185</td>\n",
       "    </tr>\n",
       "    <tr>\n",
       "      <th>2012-03-01</th>\n",
       "      <td>8.734</td>\n",
       "    </tr>\n",
       "    <tr>\n",
       "      <th>2012-04-01</th>\n",
       "      <td>10.324</td>\n",
       "    </tr>\n",
       "    <tr>\n",
       "      <th>2012-05-01</th>\n",
       "      <td>17.779</td>\n",
       "    </tr>\n",
       "    <tr>\n",
       "      <th>2012-06-01</th>\n",
       "      <td>20.165</td>\n",
       "    </tr>\n",
       "    <tr>\n",
       "      <th>2012-07-01</th>\n",
       "      <td>24.479</td>\n",
       "    </tr>\n",
       "    <tr>\n",
       "      <th>2012-08-01</th>\n",
       "      <td>22.731</td>\n",
       "    </tr>\n",
       "    <tr>\n",
       "      <th>2012-09-01</th>\n",
       "      <td>18.177</td>\n",
       "    </tr>\n",
       "    <tr>\n",
       "      <th>2012-10-01</th>\n",
       "      <td>12.436</td>\n",
       "    </tr>\n",
       "    <tr>\n",
       "      <th>2012-11-01</th>\n",
       "      <td>4.103</td>\n",
       "    </tr>\n",
       "    <tr>\n",
       "      <th>2012-12-01</th>\n",
       "      <td>2.586</td>\n",
       "    </tr>\n",
       "    <tr>\n",
       "      <th>2013-01-01</th>\n",
       "      <td>-0.968</td>\n",
       "    </tr>\n",
       "    <tr>\n",
       "      <th>2013-02-01</th>\n",
       "      <td>-1.365</td>\n",
       "    </tr>\n",
       "    <tr>\n",
       "      <th>2013-03-01</th>\n",
       "      <td>2.518</td>\n",
       "    </tr>\n",
       "    <tr>\n",
       "      <th>2013-04-01</th>\n",
       "      <td>9.723</td>\n",
       "    </tr>\n",
       "    <tr>\n",
       "      <th>2013-05-01</th>\n",
       "      <td>15.544</td>\n",
       "    </tr>\n",
       "    <tr>\n",
       "      <th>2013-06-01</th>\n",
       "      <td>20.892</td>\n",
       "    </tr>\n",
       "    <tr>\n",
       "      <th>2013-07-01</th>\n",
       "      <td>24.722</td>\n",
       "    </tr>\n",
       "    <tr>\n",
       "      <th>2013-08-01</th>\n",
       "      <td>21.001</td>\n",
       "    </tr>\n",
       "    <tr>\n",
       "      <th>2013-09-01</th>\n",
       "      <td>17.408</td>\n",
       "    </tr>\n",
       "  </tbody>\n",
       "</table>\n",
       "<p>3119 rows × 1 columns</p>\n",
       "</div>"
      ],
      "text/plain": [
       "            AverageTemperature\n",
       "dt                            \n",
       "1743-11-01               3.264\n",
       "1744-04-01               9.788\n",
       "1744-05-01              15.708\n",
       "1744-06-01              21.210\n",
       "1744-07-01              22.207\n",
       "1744-09-01              14.922\n",
       "1744-10-01               8.968\n",
       "1744-11-01               3.161\n",
       "1744-12-01              -2.681\n",
       "1745-01-01              -2.363\n",
       "1745-02-01              -2.671\n",
       "1745-03-01               1.363\n",
       "1745-04-01               8.209\n",
       "1750-01-01              -4.310\n",
       "1750-02-01              -2.719\n",
       "1750-03-01               2.773\n",
       "1750-04-01               8.848\n",
       "1750-05-01              15.411\n",
       "1750-06-01              19.017\n",
       "1750-07-01              24.203\n",
       "1750-08-01              22.135\n",
       "1750-09-01              17.445\n",
       "1750-10-01               9.076\n",
       "1750-12-01              -1.093\n",
       "1751-01-01              -3.591\n",
       "1751-02-01              -2.051\n",
       "1751-03-01               3.256\n",
       "1751-04-01               7.992\n",
       "1751-06-01              20.724\n",
       "1751-07-01              22.668\n",
       "...                        ...\n",
       "2011-04-01              10.555\n",
       "2011-05-01              16.917\n",
       "2011-06-01              21.032\n",
       "2011-07-01              24.564\n",
       "2011-08-01              22.130\n",
       "2011-09-01              19.301\n",
       "2011-10-01              12.001\n",
       "2011-11-01               8.013\n",
       "2011-12-01               2.987\n",
       "2012-01-01              -0.041\n",
       "2012-02-01               2.185\n",
       "2012-03-01               8.734\n",
       "2012-04-01              10.324\n",
       "2012-05-01              17.779\n",
       "2012-06-01              20.165\n",
       "2012-07-01              24.479\n",
       "2012-08-01              22.731\n",
       "2012-09-01              18.177\n",
       "2012-10-01              12.436\n",
       "2012-11-01               4.103\n",
       "2012-12-01               2.586\n",
       "2013-01-01              -0.968\n",
       "2013-02-01              -1.365\n",
       "2013-03-01               2.518\n",
       "2013-04-01               9.723\n",
       "2013-05-01              15.544\n",
       "2013-06-01              20.892\n",
       "2013-07-01              24.722\n",
       "2013-08-01              21.001\n",
       "2013-09-01              17.408\n",
       "\n",
       "[3119 rows x 1 columns]"
      ]
     },
     "execution_count": 41,
     "metadata": {},
     "output_type": "execute_result"
    }
   ],
   "source": [
    "city_df"
   ]
  },
  {
   "cell_type": "code",
   "execution_count": 28,
   "metadata": {},
   "outputs": [],
   "source": [
    "# check stationarity in time series data of a given city\n",
    "\n",
    "def check_stationarity(city_df):\n",
    "    # method1: plot the time series to check for trend and seasonality\n",
    "    city_df.plot(figsize=(15, 15))"
   ]
  },
  {
   "cell_type": "code",
   "execution_count": 29,
   "metadata": {},
   "outputs": [
    {
     "data": {
      "application/vnd.jupyter.widget-view+json": {
       "model_id": "22878678080e4ba7b8906e5b1c8161a9",
       "version_major": 2,
       "version_minor": 0
      },
      "text/plain": [
       "Dropdown(description='City:', index=2117, options=('A Coruña, Spain', 'Aachen, Germany', 'Aalborg, Denmark', '…"
      ]
     },
     "metadata": {},
     "output_type": "display_data"
    }
   ],
   "source": [
    "# check stationarity for data of a specific city entered by the user\n",
    "\n",
    "city_drop_down_menu = widgets.Dropdown(\n",
    "    options=sorted(list(cities)),\n",
    "    value='New York, United States',\n",
    "    description='City:',\n",
    "    disabled=False,\n",
    ")\n",
    "\n",
    "city_drop_down_menu"
   ]
  },
  {
   "cell_type": "code",
   "execution_count": 30,
   "metadata": {},
   "outputs": [],
   "source": [
    "chosen_city = city_drop_down_menu.value\n",
    "city_df = df[df.City == chosen_city].drop(\"City\", 1)"
   ]
  },
  {
   "cell_type": "code",
   "execution_count": 31,
   "metadata": {},
   "outputs": [
    {
     "name": "stdout",
     "output_type": "stream",
     "text": [
      "Stationarity Check for New York, United States\n"
     ]
    },
    {
     "data": {
      "image/png": "[encoded data removed]",
      "text/plain": [
       "<Figure size 1080x1080 with 1 Axes>"
      ]
     },
     "metadata": {
      "needs_background": "light"
     },
     "output_type": "display_data"
    }
   ],
   "source": [
    "print (\"Stationarity Check for %s\" % chosen_city)\n",
    "is_stationary = check_stationarity(city_df)"
   ]
  },
  {
   "cell_type": "code",
   "execution_count": 17,
   "metadata": {},
   "outputs": [
    {
     "data": {
      "image/png": "[encoded data removed]",
      "text/plain": [
       "<Figure size 432x288 with 1 Axes>"
      ]
     },
     "metadata": {
      "needs_background": "light"
     },
     "output_type": "display_data"
    },
    {
     "data": {
      "image/png": "[encoded data removed]",
      "text/plain": [
       "<Figure size 432x288 with 1 Axes>"
      ]
     },
     "metadata": {
      "needs_background": "light"
     },
     "output_type": "display_data"
    }
   ],
   "source": [
    "# ACF and PACF plots\n",
    "#ACF is an auto-correlation function which gives us values of auto-correlation of any series with its lagged values.\n",
    "#it actually describes how well the present value of the series is related with its past values.\n",
    "#PACF is a partial auto-correlation function\n",
    "\n",
    "plot_acf(city_df,lags = 50)\n",
    "plot_pacf(city_df,lags = 50)\n",
    "plt.show()\n",
    "\n",
    "# setting d value for ARIMA model\n",
    "if (is_stationary==True):\n",
    "    d = 0\n",
    "else:\n",
    "    d = 1"
   ]
  },
  {
   "cell_type": "code",
   "execution_count": 18,
   "metadata": {},
   "outputs": [
    {
     "name": "stdout",
     "output_type": "stream",
     "text": [
      "(p,q) corresponding to lowest AIC score:  (2, 2)\n"
     ]
    }
   ],
   "source": [
    "# Although we can determine p, q values manually by looking at the ACF and PACF plots for a given city, we must automate the process\n",
    "# To automate the process, we must perform a grid search over different values of p and q and choose the ARIMA model for which the AIC and BIC values are minimum\n",
    "\n",
    "p_range = q_range = list(range(0,3))  # taking values from 0 to 2\n",
    "\n",
    "aic_values = []\n",
    "bic_values = []\n",
    "pq_values = []\n",
    "\n",
    "for p in p_range:\n",
    "    for q in q_range:\n",
    "        try:\n",
    "            model = ARIMA(city_df, order=(p, d, q))\n",
    "            results = model.fit(disp=-1)\n",
    "            aic_values.append(ARMAResults.aic(results))\n",
    "            bic_values.append(ARMAResults.bic(results))\n",
    "            pq_values.append((p, q))\n",
    "        except:\n",
    "            pass\n",
    "\n",
    "best_pq = pq_values[aic_values.index(min(aic_values))]  # (p,q) corresponding to lowest AIC score\n",
    "print(\"(p,q) corresponding to lowest AIC score: \", best_pq)"
   ]
  },
  {
   "cell_type": "code",
   "execution_count": 19,
   "metadata": {},
   "outputs": [
    {
     "name": "stdout",
     "output_type": "stream",
     "text": [
      "Mean Squared Error: 4.678029814914216\n",
      "Mean Absolute Error: 1.5779947272783397\n"
     ]
    }
   ],
   "source": [
    "# fitting an ARIMA model with chosen p, d, q values and calculating the mean squared error\n",
    "from sklearn.metrics import mean_absolute_error\n",
    "\n",
    "arima_model = ARIMA(city_df, order=(best_pq[0], 0, best_pq[1])).fit()\n",
    "predictions = arima_model.predict(start=0, end=len(city_df)-1)\n",
    "\n",
    "mse = mean_squared_error(list(city_df.AverageTemperature), list(predictions))\n",
    "print(\"Mean Squared Error:\", mse)\n",
    "\n",
    "mae = mean_absolute_error(list(city_df.AverageTemperature), list(predictions))\n",
    "print(\"Mean Absolute Error:\", mae)"
   ]
  },
  {
   "cell_type": "code",
   "execution_count": 20,
   "metadata": {},
   "outputs": [
    {
     "data": {
      "image/png": "[encoded data removed]",
      "text/plain": [
       "<Figure size 540x540 with 1 Axes>"
      ]
     },
     "metadata": {
      "needs_background": "light"
     },
     "output_type": "display_data"
    }
   ],
   "source": [
    "# comparing first 100 predictions with actual values\n",
    "\n",
    "plt.figure(figsize=(7.5,7.5))\n",
    "plt.plot(list(city_df.AverageTemperature)[:100], label=\"Actual\")\n",
    "plt.plot(list(predictions)[:100], 'r', label=\"Predicted\")\n",
    "\n",
    "plt.xlabel(\"Time (in Months)\")\n",
    "plt.ylabel(\"Temperature (C)\")\n",
    "plt.title(\"Actual and Predicted Temperature Values\")\n",
    "\n",
    "plt.legend(loc='upper center', bbox_to_anchor=(1.45, 0.8))\n",
    "plt.show()"
   ]
  },
  {
   "cell_type": "code",
   "execution_count": 21,
   "metadata": {},
   "outputs": [
    {
     "data": {
      "application/vnd.jupyter.widget-view+json": {
       "model_id": "8b04b335bfd04557961ad7f1b981826e",
       "version_major": 2,
       "version_minor": 0
      },
      "text/plain": [
       "Dropdown(description='No. of Years:', index=9, options=(1, 2, 3, 4, 5, 6, 7, 8, 9, 10, 11, 12, 13, 14, 15, 16,…"
      ]
     },
     "metadata": {},
     "output_type": "display_data"
    }
   ],
   "source": [
    "# drop-down menu to select number of years for which predictions are required\n",
    "\n",
    "years_drop_down_menu = widgets.Dropdown(\n",
    "    options=list(range(1,201)),\n",
    "    value=10,\n",
    "    description='No. of Years:',\n",
    "    disabled=False,\n",
    ")\n",
    "\n",
    "years_drop_down_menu"
   ]
  },
  {
   "cell_type": "code",
   "execution_count": 22,
   "metadata": {},
   "outputs": [],
   "source": [
    "num_years = years_drop_down_menu.value\n",
    "last_month_in_dataset = city_df.index[-1].month  # gets last month in city_df\n",
    "remaining_months = 12 - last_month_in_dataset  # months left in current year for that city's data\n",
    "number_of_steps = remaining_months + num_years * 12  # number of steps to make out-of-sample predictions\n",
    "\n",
    "out_of_sample_forecast = arima_model.forecast(steps=number_of_steps)[0]  # predictions\n",
    "\n",
    "out_of_sample_forecast = out_of_sample_forecast[remaining_months:]  # excluding predictions for remaining months in current year"
   ]
  },
  {
   "cell_type": "code",
   "execution_count": 23,
   "metadata": {},
   "outputs": [
    {
     "name": "stdout",
     "output_type": "stream",
     "text": [
      "January:  2.145159204140669 C\n",
      "February:  4.258443025617996 C\n",
      "March:  7.766404638572061 C\n",
      "April:  11.708850770499897 C\n",
      "May:  15.018183773105907 C\n",
      "June:  16.808398260584042 C\n",
      "July:  16.61216775627662 C\n",
      "August:  14.502612947752464 C\n",
      "September:  11.068086496958337 C\n",
      "October:  7.248269138724659 C\n",
      "November:  4.07718831294623 C\n",
      "December:  2.4034073673262095 C\n"
     ]
    }
   ],
   "source": [
    "# displaying forecasted values for the nth year\n",
    "\n",
    "months = [\"January\", \"February\", \"March\", \"April\", \"May\", \"June\", \"July\", \"August\", \"September\", \"October\", \"November\", \"December\"]\n",
    "i = 0\n",
    "for x in out_of_sample_forecast[-12:]:  # last year\n",
    "    print(months[i]+\": \", x, 'C')\n",
    "    i += 1"
   ]
  },
  {
   "cell_type": "code",
   "execution_count": 24,
   "metadata": {},
   "outputs": [
    {
     "data": {
      "application/vnd.plotly.v1+json": {
       "config": {
        "linkText": "Export to plot.ly",
        "plotlyServerURL": "https://plot.ly",
        "showLink": false
       },
       "data": [
        {
         "mode": "lines",
         "name": "Average Temperature",
         "type": "scatter",
         "x": [
          "January",
          "February",
          "March",
          "April",
          "May",
          "June",
          "July",
          "August",
          "September",
          "October",
          "November",
          "December"
         ],
         "y": [
          2.145159204140669,
          4.258443025617996,
          7.766404638572061,
          11.708850770499897,
          15.018183773105907,
          16.808398260584042,
          16.61216775627662,
          14.502612947752464,
          11.068086496958337,
          7.248269138724659,
          4.07718831294623,
          2.4034073673262095
         ]
        }
       ],
       "layout": {
        "template": {
         "data": {
          "bar": [
           {
            "error_x": {
             "color": "#2a3f5f"
            },
            "error_y": {
             "color": "#2a3f5f"
            },
            "marker": {
             "line": {
              "color": "#E5ECF6",
              "width": 0.5
             }
            },
            "type": "bar"
           }
          ],
          "barpolar": [
           {
            "marker": {
             "line": {
              "color": "#E5ECF6",
              "width": 0.5
             }
            },
            "type": "barpolar"
           }
          ],
          "carpet": [
           {
            "aaxis": {
             "endlinecolor": "#2a3f5f",
             "gridcolor": "white",
             "linecolor": "white",
             "minorgridcolor": "white",
             "startlinecolor": "#2a3f5f"
            },
            "baxis": {
             "endlinecolor": "#2a3f5f",
             "gridcolor": "white",
             "linecolor": "white",
             "minorgridcolor": "white",
             "startlinecolor": "#2a3f5f"
            },
            "type": "carpet"
           }
          ],
          "choropleth": [
           {
            "colorbar": {
             "outlinewidth": 0,
             "ticks": ""
            },
            "type": "choropleth"
           }
          ],
          "contour": [
           {
            "colorbar": {
             "outlinewidth": 0,
             "ticks": ""
            },
            "colorscale": [
             [
              0,
              "#0d0887"
             ],
             [
              0.1111111111111111,
              "#46039f"
             ],
             [
              0.2222222222222222,
              "#7201a8"
             ],
             [
              0.3333333333333333,
              "#9c179e"
             ],
             [
              0.4444444444444444,
              "#bd3786"
             ],
             [
              0.5555555555555556,
              "#d8576b"
             ],
             [
              0.6666666666666666,
              "#ed7953"
             ],
             [
              0.7777777777777778,
              "#fb9f3a"
             ],
             [
              0.8888888888888888,
              "#fdca26"
             ],
             [
              1,
              "#f0f921"
             ]
            ],
            "type": "contour"
           }
          ],
          "contourcarpet": [
           {
            "colorbar": {
             "outlinewidth": 0,
             "ticks": ""
            },
            "type": "contourcarpet"
           }
          ],
          "heatmap": [
           {
            "colorbar": {
             "outlinewidth": 0,
             "ticks": ""
            },
            "colorscale": [
             [
              0,
              "#0d0887"
             ],
             [
              0.1111111111111111,
              "#46039f"
             ],
             [
              0.2222222222222222,
              "#7201a8"
             ],
             [
              0.3333333333333333,
              "#9c179e"
             ],
             [
              0.4444444444444444,
              "#bd3786"
             ],
             [
              0.5555555555555556,
              "#d8576b"
             ],
             [
              0.6666666666666666,
              "#ed7953"
             ],
             [
              0.7777777777777778,
              "#fb9f3a"
             ],
             [
              0.8888888888888888,
              "#fdca26"
             ],
             [
              1,
              "#f0f921"
             ]
            ],
            "type": "heatmap"
           }
          ],
          "heatmapgl": [
           {
            "colorbar": {
             "outlinewidth": 0,
             "ticks": ""
            },
            "colorscale": [
             [
              0,
              "#0d0887"
             ],
             [
              0.1111111111111111,
              "#46039f"
             ],
             [
              0.2222222222222222,
              "#7201a8"
             ],
             [
              0.3333333333333333,
              "#9c179e"
             ],
             [
              0.4444444444444444,
              "#bd3786"
             ],
             [
              0.5555555555555556,
              "#d8576b"
             ],
             [
              0.6666666666666666,
              "#ed7953"
             ],
             [
              0.7777777777777778,
              "#fb9f3a"
             ],
             [
              0.8888888888888888,
              "#fdca26"
             ],
             [
              1,
              "#f0f921"
             ]
            ],
            "type": "heatmapgl"
           }
          ],
          "histogram": [
           {
            "marker": {
             "colorbar": {
              "outlinewidth": 0,
              "ticks": ""
             }
            },
            "type": "histogram"
           }
          ],
          "histogram2d": [
           {
            "colorbar": {
             "outlinewidth": 0,
             "ticks": ""
            },
            "colorscale": [
             [
              0,
              "#0d0887"
             ],
             [
              0.1111111111111111,
              "#46039f"
             ],
             [
              0.2222222222222222,
              "#7201a8"
             ],
             [
              0.3333333333333333,
              "#9c179e"
             ],
             [
              0.4444444444444444,
              "#bd3786"
             ],
             [
              0.5555555555555556,
              "#d8576b"
             ],
             [
              0.6666666666666666,
              "#ed7953"
             ],
             [
              0.7777777777777778,
              "#fb9f3a"
             ],
             [
              0.8888888888888888,
              "#fdca26"
             ],
             [
              1,
              "#f0f921"
             ]
            ],
            "type": "histogram2d"
           }
          ],
          "histogram2dcontour": [
           {
            "colorbar": {
             "outlinewidth": 0,
             "ticks": ""
            },
            "colorscale": [
             [
              0,
              "#0d0887"
             ],
             [
              0.1111111111111111,
              "#46039f"
             ],
             [
              0.2222222222222222,
              "#7201a8"
             ],
             [
              0.3333333333333333,
              "#9c179e"
             ],
             [
              0.4444444444444444,
              "#bd3786"
             ],
             [
              0.5555555555555556,
              "#d8576b"
             ],
             [
              0.6666666666666666,
              "#ed7953"
             ],
             [
              0.7777777777777778,
              "#fb9f3a"
             ],
             [
              0.8888888888888888,
              "#fdca26"
             ],
             [
              1,
              "#f0f921"
             ]
            ],
            "type": "histogram2dcontour"
           }
          ],
          "mesh3d": [
           {
            "colorbar": {
             "outlinewidth": 0,
             "ticks": ""
            },
            "type": "mesh3d"
           }
          ],
          "parcoords": [
           {
            "line": {
             "colorbar": {
              "outlinewidth": 0,
              "ticks": ""
             }
            },
            "type": "parcoords"
           }
          ],
          "scatter": [
           {
            "marker": {
             "colorbar": {
              "outlinewidth": 0,
              "ticks": ""
             }
            },
            "type": "scatter"
           }
          ],
          "scatter3d": [
           {
            "line": {
             "colorbar": {
              "outlinewidth": 0,
              "ticks": ""
             }
            },
            "marker": {
             "colorbar": {
              "outlinewidth": 0,
              "ticks": ""
             }
            },
            "type": "scatter3d"
           }
          ],
          "scattercarpet": [
           {
            "marker": {
             "colorbar": {
              "outlinewidth": 0,
              "ticks": ""
             }
            },
            "type": "scattercarpet"
           }
          ],
          "scattergeo": [
           {
            "marker": {
             "colorbar": {
              "outlinewidth": 0,
              "ticks": ""
             }
            },
            "type": "scattergeo"
           }
          ],
          "scattergl": [
           {
            "marker": {
             "colorbar": {
              "outlinewidth": 0,
              "ticks": ""
             }
            },
            "type": "scattergl"
           }
          ],
          "scattermapbox": [
           {
            "marker": {
             "colorbar": {
              "outlinewidth": 0,
              "ticks": ""
             }
            },
            "type": "scattermapbox"
           }
          ],
          "scatterpolar": [
           {
            "marker": {
             "colorbar": {
              "outlinewidth": 0,
              "ticks": ""
             }
            },
            "type": "scatterpolar"
           }
          ],
          "scatterpolargl": [
           {
            "marker": {
             "colorbar": {
              "outlinewidth": 0,
              "ticks": ""
             }
            },
            "type": "scatterpolargl"
           }
          ],
          "scatterternary": [
           {
            "marker": {
             "colorbar": {
              "outlinewidth": 0,
              "ticks": ""
             }
            },
            "type": "scatterternary"
           }
          ],
          "surface": [
           {
            "colorbar": {
             "outlinewidth": 0,
             "ticks": ""
            },
            "colorscale": [
             [
              0,
              "#0d0887"
             ],
             [
              0.1111111111111111,
              "#46039f"
             ],
             [
              0.2222222222222222,
              "#7201a8"
             ],
             [
              0.3333333333333333,
              "#9c179e"
             ],
             [
              0.4444444444444444,
              "#bd3786"
             ],
             [
              0.5555555555555556,
              "#d8576b"
             ],
             [
              0.6666666666666666,
              "#ed7953"
             ],
             [
              0.7777777777777778,
              "#fb9f3a"
             ],
             [
              0.8888888888888888,
              "#fdca26"
             ],
             [
              1,
              "#f0f921"
             ]
            ],
            "type": "surface"
           }
          ],
          "table": [
           {
            "cells": {
             "fill": {
              "color": "#EBF0F8"
             },
             "line": {
              "color": "white"
             }
            },
            "header": {
             "fill": {
              "color": "#C8D4E3"
             },
             "line": {
              "color": "white"
             }
            },
            "type": "table"
           }
          ]
         },
         "layout": {
          "annotationdefaults": {
           "arrowcolor": "#2a3f5f",
           "arrowhead": 0,
           "arrowwidth": 1
          },
          "colorscale": {
           "diverging": [
            [
             0,
             "#8e0152"
            ],
            [
             0.1,
             "#c51b7d"
            ],
            [
             0.2,
             "#de77ae"
            ],
            [
             0.3,
             "#f1b6da"
            ],
            [
             0.4,
             "#fde0ef"
            ],
            [
             0.5,
             "#f7f7f7"
            ],
            [
             0.6,
             "#e6f5d0"
            ],
            [
             0.7,
             "#b8e186"
            ],
            [
             0.8,
             "#7fbc41"
            ],
            [
             0.9,
             "#4d9221"
            ],
            [
             1,
             "#276419"
            ]
           ],
           "sequential": [
            [
             0,
             "#0d0887"
            ],
            [
             0.1111111111111111,
             "#46039f"
            ],
            [
             0.2222222222222222,
             "#7201a8"
            ],
            [
             0.3333333333333333,
             "#9c179e"
            ],
            [
             0.4444444444444444,
             "#bd3786"
            ],
            [
             0.5555555555555556,
             "#d8576b"
            ],
            [
             0.6666666666666666,
             "#ed7953"
            ],
            [
             0.7777777777777778,
             "#fb9f3a"
            ],
            [
             0.8888888888888888,
             "#fdca26"
            ],
            [
             1,
             "#f0f921"
            ]
           ],
           "sequentialminus": [
            [
             0,
             "#0d0887"
            ],
            [
             0.1111111111111111,
             "#46039f"
            ],
            [
             0.2222222222222222,
             "#7201a8"
            ],
            [
             0.3333333333333333,
             "#9c179e"
            ],
            [
             0.4444444444444444,
             "#bd3786"
            ],
            [
             0.5555555555555556,
             "#d8576b"
            ],
            [
             0.6666666666666666,
             "#ed7953"
            ],
            [
             0.7777777777777778,
             "#fb9f3a"
            ],
            [
             0.8888888888888888,
             "#fdca26"
            ],
            [
             1,
             "#f0f921"
            ]
           ]
          },
          "colorway": [
           "#636efa",
           "#EF553B",
           "#00cc96",
           "#ab63fa",
           "#FFA15A",
           "#19d3f3",
           "#FF6692",
           "#B6E880",
           "#FF97FF",
           "#FECB52"
          ],
          "font": {
           "color": "#2a3f5f"
          },
          "geo": {
           "bgcolor": "white",
           "lakecolor": "white",
           "landcolor": "#E5ECF6",
           "showlakes": true,
           "showland": true,
           "subunitcolor": "white"
          },
          "hoverlabel": {
           "align": "left"
          },
          "hovermode": "closest",
          "mapbox": {
           "style": "light"
          },
          "paper_bgcolor": "white",
          "plot_bgcolor": "#E5ECF6",
          "polar": {
           "angularaxis": {
            "gridcolor": "white",
            "linecolor": "white",
            "ticks": ""
           },
           "bgcolor": "#E5ECF6",
           "radialaxis": {
            "gridcolor": "white",
            "linecolor": "white",
            "ticks": ""
           }
          },
          "scene": {
           "xaxis": {
            "backgroundcolor": "#E5ECF6",
            "gridcolor": "white",
            "gridwidth": 2,
            "linecolor": "white",
            "showbackground": true,
            "ticks": "",
            "zerolinecolor": "white"
           },
           "yaxis": {
            "backgroundcolor": "#E5ECF6",
            "gridcolor": "white",
            "gridwidth": 2,
            "linecolor": "white",
            "showbackground": true,
            "ticks": "",
            "zerolinecolor": "white"
           },
           "zaxis": {
            "backgroundcolor": "#E5ECF6",
            "gridcolor": "white",
            "gridwidth": 2,
            "linecolor": "white",
            "showbackground": true,
            "ticks": "",
            "zerolinecolor": "white"
           }
          },
          "shapedefaults": {
           "line": {
            "color": "#2a3f5f"
           }
          },
          "ternary": {
           "aaxis": {
            "gridcolor": "white",
            "linecolor": "white",
            "ticks": ""
           },
           "baxis": {
            "gridcolor": "white",
            "linecolor": "white",
            "ticks": ""
           },
           "bgcolor": "#E5ECF6",
           "caxis": {
            "gridcolor": "white",
            "linecolor": "white",
            "ticks": ""
           }
          },
          "title": {
           "x": 0.05
          },
          "xaxis": {
           "automargin": true,
           "gridcolor": "white",
           "linecolor": "white",
           "ticks": "",
           "zerolinecolor": "white",
           "zerolinewidth": 2
          },
          "yaxis": {
           "automargin": true,
           "gridcolor": "white",
           "linecolor": "white",
           "ticks": "",
           "zerolinecolor": "white",
           "zerolinewidth": 2
          }
         }
        },
        "title": {
         "text": "Predicted Temperatures for the Year 2023"
        },
        "xaxis": {
         "title": {
          "text": "Year"
         }
        },
        "yaxis": {
         "title": {
          "text": "Temperature (C)"
         }
        }
       }
      },
      "text/html": [
       "<div>\n",
       "        \n",
       "        \n",
       "            <div id=\"7db0dfab-c4cf-4e35-8921-29c0ebd70e11\" class=\"plotly-graph-div\" style=\"height:525px; width:100%;\"></div>\n",
       "            <script type=\"text/javascript\">\n",
       "                require([\"plotly\"], function(Plotly) {\n",
       "                    window.PLOTLYENV=window.PLOTLYENV || {};\n",
       "                    \n",
       "                if (document.getElementById(\"7db0dfab-c4cf-4e35-8921-29c0ebd70e11\")) {\n",
       "                    Plotly.newPlot(\n",
       "                        '7db0dfab-c4cf-4e35-8921-29c0ebd70e11',\n",
       "                        [{\"mode\": \"lines\", \"name\": \"Average Temperature\", \"type\": \"scatter\", \"x\": [\"January\", \"February\", \"March\", \"April\", \"May\", \"June\", \"July\", \"August\", \"September\", \"October\", \"November\", \"December\"], \"y\": [2.145159204140669, 4.258443025617996, 7.766404638572061, 11.708850770499897, 15.018183773105907, 16.808398260584042, 16.61216775627662, 14.502612947752464, 11.068086496958337, 7.248269138724659, 4.07718831294623, 2.4034073673262095]}],\n",
       "                        {\"template\": {\"data\": {\"bar\": [{\"error_x\": {\"color\": \"#2a3f5f\"}, \"error_y\": {\"color\": \"#2a3f5f\"}, \"marker\": {\"line\": {\"color\": \"#E5ECF6\", \"width\": 0.5}}, \"type\": \"bar\"}], \"barpolar\": [{\"marker\": {\"line\": {\"color\": \"#E5ECF6\", \"width\": 0.5}}, \"type\": \"barpolar\"}], \"carpet\": [{\"aaxis\": {\"endlinecolor\": \"#2a3f5f\", \"gridcolor\": \"white\", \"linecolor\": \"white\", \"minorgridcolor\": \"white\", \"startlinecolor\": \"#2a3f5f\"}, \"baxis\": {\"endlinecolor\": \"#2a3f5f\", \"gridcolor\": \"white\", \"linecolor\": \"white\", \"minorgridcolor\": \"white\", \"startlinecolor\": \"#2a3f5f\"}, \"type\": \"carpet\"}], \"choropleth\": [{\"colorbar\": {\"outlinewidth\": 0, \"ticks\": \"\"}, \"type\": \"choropleth\"}], \"contour\": [{\"colorbar\": {\"outlinewidth\": 0, \"ticks\": \"\"}, \"colorscale\": [[0.0, \"#0d0887\"], [0.1111111111111111, \"#46039f\"], [0.2222222222222222, \"#7201a8\"], [0.3333333333333333, \"#9c179e\"], [0.4444444444444444, \"#bd3786\"], [0.5555555555555556, \"#d8576b\"], [0.6666666666666666, \"#ed7953\"], [0.7777777777777778, \"#fb9f3a\"], [0.8888888888888888, \"#fdca26\"], [1.0, \"#f0f921\"]], \"type\": \"contour\"}], \"contourcarpet\": [{\"colorbar\": {\"outlinewidth\": 0, \"ticks\": \"\"}, \"type\": \"contourcarpet\"}], \"heatmap\": [{\"colorbar\": {\"outlinewidth\": 0, \"ticks\": \"\"}, \"colorscale\": [[0.0, \"#0d0887\"], [0.1111111111111111, \"#46039f\"], [0.2222222222222222, \"#7201a8\"], [0.3333333333333333, \"#9c179e\"], [0.4444444444444444, \"#bd3786\"], [0.5555555555555556, \"#d8576b\"], [0.6666666666666666, \"#ed7953\"], [0.7777777777777778, \"#fb9f3a\"], [0.8888888888888888, \"#fdca26\"], [1.0, \"#f0f921\"]], \"type\": \"heatmap\"}], \"heatmapgl\": [{\"colorbar\": {\"outlinewidth\": 0, \"ticks\": \"\"}, \"colorscale\": [[0.0, \"#0d0887\"], [0.1111111111111111, \"#46039f\"], [0.2222222222222222, \"#7201a8\"], [0.3333333333333333, \"#9c179e\"], [0.4444444444444444, \"#bd3786\"], [0.5555555555555556, \"#d8576b\"], [0.6666666666666666, \"#ed7953\"], [0.7777777777777778, \"#fb9f3a\"], [0.8888888888888888, \"#fdca26\"], [1.0, \"#f0f921\"]], \"type\": \"heatmapgl\"}], \"histogram\": [{\"marker\": {\"colorbar\": {\"outlinewidth\": 0, \"ticks\": \"\"}}, \"type\": \"histogram\"}], \"histogram2d\": [{\"colorbar\": {\"outlinewidth\": 0, \"ticks\": \"\"}, \"colorscale\": [[0.0, \"#0d0887\"], [0.1111111111111111, \"#46039f\"], [0.2222222222222222, \"#7201a8\"], [0.3333333333333333, \"#9c179e\"], [0.4444444444444444, \"#bd3786\"], [0.5555555555555556, \"#d8576b\"], [0.6666666666666666, \"#ed7953\"], [0.7777777777777778, \"#fb9f3a\"], [0.8888888888888888, \"#fdca26\"], [1.0, \"#f0f921\"]], \"type\": \"histogram2d\"}], \"histogram2dcontour\": [{\"colorbar\": {\"outlinewidth\": 0, \"ticks\": \"\"}, \"colorscale\": [[0.0, \"#0d0887\"], [0.1111111111111111, \"#46039f\"], [0.2222222222222222, \"#7201a8\"], [0.3333333333333333, \"#9c179e\"], [0.4444444444444444, \"#bd3786\"], [0.5555555555555556, \"#d8576b\"], [0.6666666666666666, \"#ed7953\"], [0.7777777777777778, \"#fb9f3a\"], [0.8888888888888888, \"#fdca26\"], [1.0, \"#f0f921\"]], \"type\": \"histogram2dcontour\"}], \"mesh3d\": [{\"colorbar\": {\"outlinewidth\": 0, \"ticks\": \"\"}, \"type\": \"mesh3d\"}], \"parcoords\": [{\"line\": {\"colorbar\": {\"outlinewidth\": 0, \"ticks\": \"\"}}, \"type\": \"parcoords\"}], \"scatter\": [{\"marker\": {\"colorbar\": {\"outlinewidth\": 0, \"ticks\": \"\"}}, \"type\": \"scatter\"}], \"scatter3d\": [{\"line\": {\"colorbar\": {\"outlinewidth\": 0, \"ticks\": \"\"}}, \"marker\": {\"colorbar\": {\"outlinewidth\": 0, \"ticks\": \"\"}}, \"type\": \"scatter3d\"}], \"scattercarpet\": [{\"marker\": {\"colorbar\": {\"outlinewidth\": 0, \"ticks\": \"\"}}, \"type\": \"scattercarpet\"}], \"scattergeo\": [{\"marker\": {\"colorbar\": {\"outlinewidth\": 0, \"ticks\": \"\"}}, \"type\": \"scattergeo\"}], \"scattergl\": [{\"marker\": {\"colorbar\": {\"outlinewidth\": 0, \"ticks\": \"\"}}, \"type\": \"scattergl\"}], \"scattermapbox\": [{\"marker\": {\"colorbar\": {\"outlinewidth\": 0, \"ticks\": \"\"}}, \"type\": \"scattermapbox\"}], \"scatterpolar\": [{\"marker\": {\"colorbar\": {\"outlinewidth\": 0, \"ticks\": \"\"}}, \"type\": \"scatterpolar\"}], \"scatterpolargl\": [{\"marker\": {\"colorbar\": {\"outlinewidth\": 0, \"ticks\": \"\"}}, \"type\": \"scatterpolargl\"}], \"scatterternary\": [{\"marker\": {\"colorbar\": {\"outlinewidth\": 0, \"ticks\": \"\"}}, \"type\": \"scatterternary\"}], \"surface\": [{\"colorbar\": {\"outlinewidth\": 0, \"ticks\": \"\"}, \"colorscale\": [[0.0, \"#0d0887\"], [0.1111111111111111, \"#46039f\"], [0.2222222222222222, \"#7201a8\"], [0.3333333333333333, \"#9c179e\"], [0.4444444444444444, \"#bd3786\"], [0.5555555555555556, \"#d8576b\"], [0.6666666666666666, \"#ed7953\"], [0.7777777777777778, \"#fb9f3a\"], [0.8888888888888888, \"#fdca26\"], [1.0, \"#f0f921\"]], \"type\": \"surface\"}], \"table\": [{\"cells\": {\"fill\": {\"color\": \"#EBF0F8\"}, \"line\": {\"color\": \"white\"}}, \"header\": {\"fill\": {\"color\": \"#C8D4E3\"}, \"line\": {\"color\": \"white\"}}, \"type\": \"table\"}]}, \"layout\": {\"annotationdefaults\": {\"arrowcolor\": \"#2a3f5f\", \"arrowhead\": 0, \"arrowwidth\": 1}, \"colorscale\": {\"diverging\": [[0, \"#8e0152\"], [0.1, \"#c51b7d\"], [0.2, \"#de77ae\"], [0.3, \"#f1b6da\"], [0.4, \"#fde0ef\"], [0.5, \"#f7f7f7\"], [0.6, \"#e6f5d0\"], [0.7, \"#b8e186\"], [0.8, \"#7fbc41\"], [0.9, \"#4d9221\"], [1, \"#276419\"]], \"sequential\": [[0.0, \"#0d0887\"], [0.1111111111111111, \"#46039f\"], [0.2222222222222222, \"#7201a8\"], [0.3333333333333333, \"#9c179e\"], [0.4444444444444444, \"#bd3786\"], [0.5555555555555556, \"#d8576b\"], [0.6666666666666666, \"#ed7953\"], [0.7777777777777778, \"#fb9f3a\"], [0.8888888888888888, \"#fdca26\"], [1.0, \"#f0f921\"]], \"sequentialminus\": [[0.0, \"#0d0887\"], [0.1111111111111111, \"#46039f\"], [0.2222222222222222, \"#7201a8\"], [0.3333333333333333, \"#9c179e\"], [0.4444444444444444, \"#bd3786\"], [0.5555555555555556, \"#d8576b\"], [0.6666666666666666, \"#ed7953\"], [0.7777777777777778, \"#fb9f3a\"], [0.8888888888888888, \"#fdca26\"], [1.0, \"#f0f921\"]]}, \"colorway\": [\"#636efa\", \"#EF553B\", \"#00cc96\", \"#ab63fa\", \"#FFA15A\", \"#19d3f3\", \"#FF6692\", \"#B6E880\", \"#FF97FF\", \"#FECB52\"], \"font\": {\"color\": \"#2a3f5f\"}, \"geo\": {\"bgcolor\": \"white\", \"lakecolor\": \"white\", \"landcolor\": \"#E5ECF6\", \"showlakes\": true, \"showland\": true, \"subunitcolor\": \"white\"}, \"hoverlabel\": {\"align\": \"left\"}, \"hovermode\": \"closest\", \"mapbox\": {\"style\": \"light\"}, \"paper_bgcolor\": \"white\", \"plot_bgcolor\": \"#E5ECF6\", \"polar\": {\"angularaxis\": {\"gridcolor\": \"white\", \"linecolor\": \"white\", \"ticks\": \"\"}, \"bgcolor\": \"#E5ECF6\", \"radialaxis\": {\"gridcolor\": \"white\", \"linecolor\": \"white\", \"ticks\": \"\"}}, \"scene\": {\"xaxis\": {\"backgroundcolor\": \"#E5ECF6\", \"gridcolor\": \"white\", \"gridwidth\": 2, \"linecolor\": \"white\", \"showbackground\": true, \"ticks\": \"\", \"zerolinecolor\": \"white\"}, \"yaxis\": {\"backgroundcolor\": \"#E5ECF6\", \"gridcolor\": \"white\", \"gridwidth\": 2, \"linecolor\": \"white\", \"showbackground\": true, \"ticks\": \"\", \"zerolinecolor\": \"white\"}, \"zaxis\": {\"backgroundcolor\": \"#E5ECF6\", \"gridcolor\": \"white\", \"gridwidth\": 2, \"linecolor\": \"white\", \"showbackground\": true, \"ticks\": \"\", \"zerolinecolor\": \"white\"}}, \"shapedefaults\": {\"line\": {\"color\": \"#2a3f5f\"}}, \"ternary\": {\"aaxis\": {\"gridcolor\": \"white\", \"linecolor\": \"white\", \"ticks\": \"\"}, \"baxis\": {\"gridcolor\": \"white\", \"linecolor\": \"white\", \"ticks\": \"\"}, \"bgcolor\": \"#E5ECF6\", \"caxis\": {\"gridcolor\": \"white\", \"linecolor\": \"white\", \"ticks\": \"\"}}, \"title\": {\"x\": 0.05}, \"xaxis\": {\"automargin\": true, \"gridcolor\": \"white\", \"linecolor\": \"white\", \"ticks\": \"\", \"zerolinecolor\": \"white\", \"zerolinewidth\": 2}, \"yaxis\": {\"automargin\": true, \"gridcolor\": \"white\", \"linecolor\": \"white\", \"ticks\": \"\", \"zerolinecolor\": \"white\", \"zerolinewidth\": 2}}}, \"title\": {\"text\": \"Predicted Temperatures for the Year 2023\"}, \"xaxis\": {\"title\": {\"text\": \"Year\"}}, \"yaxis\": {\"title\": {\"text\": \"Temperature (C)\"}}},\n",
       "                        {\"responsive\": true}\n",
       "                    ).then(function(){\n",
       "                            \n",
       "var gd = document.getElementById('7db0dfab-c4cf-4e35-8921-29c0ebd70e11');\n",
       "var x = new MutationObserver(function (mutations, observer) {{\n",
       "        var display = window.getComputedStyle(gd).display;\n",
       "        if (!display || display === 'none') {{\n",
       "            console.log([gd, 'removed!']);\n",
       "            Plotly.purge(gd);\n",
       "            observer.disconnect();\n",
       "        }}\n",
       "}});\n",
       "\n",
       "// Listen for the removal of the full notebook cells\n",
       "var notebookContainer = gd.closest('#notebook-container');\n",
       "if (notebookContainer) {{\n",
       "    x.observe(notebookContainer, {childList: true});\n",
       "}}\n",
       "\n",
       "// Listen for the clearing of the current output cell\n",
       "var outputEl = gd.closest('.output');\n",
       "if (outputEl) {{\n",
       "    x.observe(outputEl, {childList: true});\n",
       "}}\n",
       "\n",
       "                        })\n",
       "                };\n",
       "                });\n",
       "            </script>\n",
       "        </div>"
      ]
     },
     "metadata": {},
     "output_type": "display_data"
    }
   ],
   "source": [
    "# plotting the predicted values for the nth year\n",
    "\n",
    "trace = go.Scatter(\n",
    "    x = [\"January\", \"February\", \"March\", \"April\", \"May\", \"June\", \"July\", \"August\", \"September\", \"October\", \"November\", \"December\"],\n",
    "    y = out_of_sample_forecast[-12:],\n",
    "    mode = 'lines',\n",
    "    name = 'Average Temperature'\n",
    ")\n",
    "\n",
    "layout = go.Layout(\n",
    "    title='Predicted Temperatures for the Year %d' % (2013+num_years),\n",
    "    xaxis=dict(\n",
    "        title='Year',\n",
    "    ),\n",
    "    yaxis=dict(\n",
    "        title='Temperature (C)',\n",
    "    )\n",
    ")\n",
    "data = [trace]\n",
    "\n",
    "fig = go.Figure(data=data, layout=layout)\n",
    "iplot(fig)"
   ]
  },
  {
   "cell_type": "code",
   "execution_count": 25,
   "metadata": {},
   "outputs": [
    {
     "data": {
      "image/png": "[encoded data removed]",
      "text/plain": [
       "<Figure size 432x288 with 12 Axes>"
      ]
     },
     "metadata": {
      "needs_background": "light"
     },
     "output_type": "display_data"
    }
   ],
   "source": [
    "# plotting monthly temperature changes from 2013 to 2013+n years\n",
    "\n",
    "fig, ax = plt.subplots(nrows=4, ncols=3)\n",
    "\n",
    "monthly_change = {}\n",
    "\n",
    "for month in range(12):\n",
    "    temp = month\n",
    "    for year in range(num_years):\n",
    "        if month not in monthly_change:\n",
    "            monthly_change[month] = [out_of_sample_forecast[temp]]\n",
    "        else:\n",
    "            monthly_change[month].append(out_of_sample_forecast[temp])\n",
    "        temp+=12"
   ]
  },
  {
   "cell_type": "code",
   "execution_count": 26,
   "metadata": {},
   "outputs": [
    {
     "data": {
      "image/png": "[encoded data removed]",
      "text/plain": [
       "<Figure size 1440x1440 with 12 Axes>"
      ]
     },
     "metadata": {
      "needs_background": "light"
     },
     "output_type": "display_data"
    }
   ],
   "source": [
    "plt.figure(figsize=(20,20))\n",
    "for pos in range(0,12):\n",
    "    plt.subplot(4,3,pos+1)\n",
    "    plt.plot(monthly_change[pos])\n",
    "    plt.xticks(np.array(range(num_years)), [i for i in range(2014,2014+num_years)])\n",
    "    plt.title(months[pos])\n",
    "    plt.xlabel('Years')\n",
    "    plt.ylabel('Temperature(C)')\n",
    "\n",
    "plt.show()"
   ]
  },
  {
   "cell_type": "code",
   "execution_count": null,
   "metadata": {},
   "outputs": [],
   "source": []
  },
  {
   "cell_type": "code",
   "execution_count": null,
   "metadata": {},
   "outputs": [],
   "source": []
  },
  {
   "cell_type": "code",
   "execution_count": null,
   "metadata": {},
   "outputs": [],
   "source": []
  }
 ],
 "metadata": {
  "kernelspec": {
   "display_name": "Python 3",
   "language": "python",
   "name": "python3"
  },
  "language_info": {
   "codemirror_mode": {
    "name": "ipython",
    "version": 3
   },
   "file_extension": ".py",
   "mimetype": "text/x-python",
   "name": "python",
   "nbconvert_exporter": "python",
   "pygments_lexer": "ipython3",
   "version": "3.7.3"
  }
 },
 "nbformat": 4,
 "nbformat_minor": 2
}
